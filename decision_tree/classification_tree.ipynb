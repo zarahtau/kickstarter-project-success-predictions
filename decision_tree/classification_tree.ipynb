{
 "cells": [
  {
   "cell_type": "markdown",
   "id": "a710d537",
   "metadata": {},
   "source": [
    "### Decision Tree ###"
   ]
  },
  {
   "cell_type": "code",
   "execution_count": 3,
   "id": "5322e681",
   "metadata": {},
   "outputs": [],
   "source": [
    "import pandas as pd"
   ]
  },
  {
   "cell_type": "code",
   "execution_count": 5,
   "id": "d7e315e7",
   "metadata": {},
   "outputs": [],
   "source": [
    "df = pd.read_csv(\"../data/kickstarter_cleaned.csv\")"
   ]
  },
  {
   "cell_type": "code",
   "execution_count": 6,
   "id": "0c9b6368",
   "metadata": {},
   "outputs": [],
   "source": [
    "#one-hot encode\n",
    "\n",
    "#category\n",
    "df_encoded = pd.get_dummies(df, columns=['category'])"
   ]
  },
  {
   "cell_type": "code",
   "execution_count": 7,
   "id": "83a16733",
   "metadata": {},
   "outputs": [],
   "source": [
    "from sklearn.tree import DecisionTreeClassifier\n",
    "from sklearn.model_selection import train_test_split\n",
    "from sklearn.model_selection import cross_val_score\n",
    "\n",
    "#eliminate all non-numerical columns\n",
    "df = df.select_dtypes(include=['number'])\n",
    "\n",
    "#print(df.columns)\n",
    "#print(df.head(2))\n",
    "\n",
    "#y is the target feature\n",
    "y = df['SuccessfulBool']\n",
    "#X consists of all features other than the target feature\n",
    "X = df.drop('SuccessfulBool', axis=1)\n",
    "\n",
    "X_train, X_test, y_train, y_test = train_test_split(X, y, test_size=0.3, random_state=42, shuffle=True)"
   ]
  },
  {
   "cell_type": "code",
   "execution_count": 8,
   "id": "60acaf4f",
   "metadata": {},
   "outputs": [
    {
     "name": "stdout",
     "output_type": "stream",
     "text": [
      "Tree depth 10\n",
      "Cross-validation scores: [0.97722868 0.98546512 0.99079011 0.97479399 0.98351915 0.98836646\n",
      " 0.97091614 0.97867184 0.96509937 0.9655841 ]\n",
      "Mean accuracy: 0.9780\n",
      "Standard deviation of accuracy: 0.0086\n",
      "Tree depth 20\n",
      "Cross-validation scores: [0.98013566 0.98449612 0.98788173 0.97721764 0.98206495 0.98400388\n",
      " 0.97430926 0.97721764 0.96752302 0.96897722]\n",
      "Mean accuracy: 0.9784\n",
      "Standard deviation of accuracy: 0.0063\n",
      "Tree depth 30\n",
      "Cross-validation scores: [0.98158915 0.98449612 0.98788173 0.97721764 0.98206495 0.98400388\n",
      " 0.97430926 0.97624818 0.96752302 0.96897722]\n",
      "Mean accuracy: 0.9784\n",
      "Standard deviation of accuracy: 0.0064\n",
      "Tree depth 40\n",
      "Cross-validation scores: [0.98158915 0.98449612 0.98788173 0.97721764 0.98206495 0.98400388\n",
      " 0.97430926 0.97624818 0.96752302 0.96897722]\n",
      "Mean accuracy: 0.9784\n",
      "Standard deviation of accuracy: 0.0064\n",
      "Tree depth 50\n",
      "Cross-validation scores: [0.98158915 0.98449612 0.98788173 0.97721764 0.98206495 0.98400388\n",
      " 0.97430926 0.97624818 0.96752302 0.96897722]\n",
      "Mean accuracy: 0.9784\n",
      "Standard deviation of accuracy: 0.0064\n",
      "Tree depth 60\n",
      "Cross-validation scores: [0.98158915 0.98449612 0.98788173 0.97721764 0.98206495 0.98400388\n",
      " 0.97430926 0.97624818 0.96752302 0.96897722]\n",
      "Mean accuracy: 0.9784\n",
      "Standard deviation of accuracy: 0.0064\n",
      "Tree depth 70\n",
      "Cross-validation scores: [0.98158915 0.98449612 0.98788173 0.97721764 0.98206495 0.98400388\n",
      " 0.97430926 0.97624818 0.96752302 0.96897722]\n",
      "Mean accuracy: 0.9784\n",
      "Standard deviation of accuracy: 0.0064\n",
      "Tree depth 80\n",
      "Cross-validation scores: [0.98158915 0.98449612 0.98788173 0.97721764 0.98206495 0.98400388\n",
      " 0.97430926 0.97624818 0.96752302 0.96897722]\n",
      "Mean accuracy: 0.9784\n",
      "Standard deviation of accuracy: 0.0064\n",
      "Tree depth 90\n",
      "Cross-validation scores: [0.98158915 0.98449612 0.98788173 0.97721764 0.98206495 0.98400388\n",
      " 0.97430926 0.97624818 0.96752302 0.96897722]\n",
      "Mean accuracy: 0.9784\n",
      "Standard deviation of accuracy: 0.0064\n"
     ]
    }
   ],
   "source": [
    "for i in range(1, 10):\n",
    "    i = i * 10\n",
    "    clf = DecisionTreeClassifier(max_depth=i, random_state=42)\n",
    "    clf.fit(X_train, y_train)\n",
    "\n",
    "    cv_scores = cross_val_score(clf, X, y, cv=10)\n",
    "\n",
    "    print(f\"Tree depth {i}\")\n",
    "    print(f\"Cross-validation scores: {cv_scores}\")\n",
    "    print(f\"Mean accuracy: {cv_scores.mean():.4f}\")\n",
    "    print(f\"Standard deviation of accuracy: {cv_scores.std():.4f}\")"
   ]
  },
  {
   "cell_type": "code",
   "execution_count": 9,
   "id": "71d605bd",
   "metadata": {},
   "outputs": [
    {
     "name": "stdout",
     "output_type": "stream",
     "text": [
      "[0]\n"
     ]
    }
   ],
   "source": [
    "#messing around with sample prediction\n",
    "print(clf.predict(X.iloc[0:1]))"
   ]
  }
 ],
 "metadata": {
  "kernelspec": {
   "display_name": "Python 3",
   "language": "python",
   "name": "python3"
  },
  "language_info": {
   "codemirror_mode": {
    "name": "ipython",
    "version": 3
   },
   "file_extension": ".py",
   "mimetype": "text/x-python",
   "name": "python",
   "nbconvert_exporter": "python",
   "pygments_lexer": "ipython3",
   "version": "3.13.3"
  }
 },
 "nbformat": 4,
 "nbformat_minor": 5
}
