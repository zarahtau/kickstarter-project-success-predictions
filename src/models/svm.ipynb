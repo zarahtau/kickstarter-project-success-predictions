{
 "cells": [
  {
   "cell_type": "code",
   "execution_count": 10,
   "id": "a9a4f739",
   "metadata": {},
   "outputs": [],
   "source": [
    "import pandas as pd\n",
    "import matplotlib.pyplot as plt\n",
    "from sklearn import svm\n",
    "from sklearn.svm import SVC\n",
    "from sklearn.svm import NuSVC\n",
    "from sklearn.model_selection import KFold\n",
    "from sklearn.model_selection import cross_val_score\n",
    "from sklearn.model_selection import train_test_split\n",
    "from sklearn.metrics import roc_curve, auc\n",
    "\n",
    "kfold = KFold(n_splits=10, shuffle=True, random_state=42)"
   ]
  },
  {
   "cell_type": "markdown",
   "id": "9dedba23",
   "metadata": {},
   "source": [
    "<h2>SVM Analysis</h2>\n",
    "This classifier separates data points using a hyperplane with the largest amount of margin. This model finds an optimal hyperplane which can help in classifying new data points. It is often used for classification problems which satisfies our binary classification use case. \n",
    "\n",
    "The goal of SVM is to find a maximum marginal hyperplane that best divides the dataset into classes. Support vectors are the data points closest to the hyperplane. \n",
    "\n",
    "<strong>How does SVM work?</strong>\n",
    "\n",
    "[1] Generate hyperplanes which separates the classes in the best way. \n",
    "[2] Select the right hyperplane with maximum separation from the nearest points that define the boundary. Given non-linear and inseparable planes, kernal tricks can be used to transform the input space to a higher dimensional space.\n",
    "\n",
    "<strong>Scikit Learn Tuning Parameters</strong>\n",
    "\n",
    "[1] From the EDA, it was difficult to see any prominent relationships between the outputs and inputs. For that reason, we test SVC and NuSVC SVM's disregarding LinearSVC. SVC and NuSVC simply vary in their mathematical formulations.\n",
    "\n",
    "[2] Kernel: Specifies the kernel type to be used in the algorithm. Some possible values are linear, poly, rbf, sigmoid, or precomputed.\n",
    "\n",
    "[3] C: The strength of regularization => for SVC \n",
    "\n",
    "[4] Degree of the polynomial\n",
    "\n",
    "[5] class_weight: Given that we have many positive and few negative, balancing the class weight might be something of interest.\n",
    "\n",
    "[6] gamma (scale or auto): Useful for non-linear kernal like RBF. This defines the behavior of the decision boundary.\n",
    "\n",
    "Sources:\n",
    "https://scikit-learn.org/stable/modules/svm.html\n",
    "\n",
    "https://www.datacamp.com/tutorial/svm-classification-scikit-learn-python"
   ]
  },
  {
   "cell_type": "markdown",
   "id": "0e98e3e6",
   "metadata": {},
   "source": [
    "<strong>Defining ROC and AUC Score Function</strong>"
   ]
  },
  {
   "cell_type": "code",
   "execution_count": 11,
   "id": "5c0029d3",
   "metadata": {},
   "outputs": [],
   "source": [
    "def predictive_probability_results(y_true, y_prob, label=\"Model\", title=\"ROC Curve\"):\n",
    "    # Compute ROC curve and AUC score\n",
    "    fpr, tpr, _ = roc_curve(y_true, y_prob)\n",
    "    roc_auc = auc(fpr, tpr)\n",
    "    \n",
    "    # Plot\n",
    "    plt.figure(figsize=(8, 6))\n",
    "    plt.plot(fpr, tpr, label=f\"{label} (AUC = {roc_auc:.4f})\")\n",
    "    plt.plot([0, 1], [0, 1], 'k--', label=\"Random Classifier\")\n",
    "    plt.xlabel('False Positive Rate')\n",
    "    plt.ylabel('True Positive Rate')\n",
    "    plt.title(title)\n",
    "    plt.legend(loc='lower right')\n",
    "    plt.grid(True)\n",
    "    plt.tight_layout()\n",
    "    plt.show()"
   ]
  },
  {
   "cell_type": "code",
   "execution_count": 12,
   "id": "165e8f9b",
   "metadata": {},
   "outputs": [
    {
     "name": "stdout",
     "output_type": "stream",
     "text": [
      "Index(['goal', 'backers_count', 'static_usd_rate', 'usd_pledged',\n",
      "       'name_len_clean', 'blurb_len_clean', 'deadline_month', 'deadline_day',\n",
      "       'deadline_hr', 'created_at_month', 'created_at_day', 'created_at_hr',\n",
      "       'launched_at_month', 'launched_at_day', 'launched_at_yr',\n",
      "       'launched_at_hr', 'create_to_launch_days', 'launch_to_deadline_days',\n",
      "       'launch_to_state_change_days', 'TOPCOUNTRY', 'LaunchedTuesday',\n",
      "       'DeadlineWeekend', 'name', 'blurb', 'disable_communication', 'country',\n",
      "       'currency', 'deadline', 'state_changed_at', 'created_at', 'launched_at',\n",
      "       'staff_pick', 'category', 'spotlight', 'deadline_weekday',\n",
      "       'state_changed_at_weekday', 'created_at_weekday', 'launched_at_weekday',\n",
      "       'create_to_launch', 'launch_to_deadline', 'launch_to_state_change',\n",
      "       'SuccessfulBool', 'category_grouped', 'currency_grouped',\n",
      "       'country_grouped', 'app', 'help', 'new', 'world', 'canceled'],\n",
      "      dtype='object')\n"
     ]
    }
   ],
   "source": [
    "filename = '/kickstarter_one_hot_cleaned.csv'\n",
    "filepath = '/Users/zarahtaufique/Desktop/SJSU/Year4Semester2/CMPE188/kickstarter-project-success-predictions/data'\n",
    "pd.set_option('display.max_columns', None)\n",
    "\n",
    "full_kickstarter_df = pd.read_csv(filepath+filename, low_memory=False)\n",
    "print(full_kickstarter_df.columns)"
   ]
  },
  {
   "cell_type": "code",
   "execution_count": 13,
   "id": "234fa631",
   "metadata": {},
   "outputs": [
    {
     "name": "stdout",
     "output_type": "stream",
     "text": [
      "       goal  disable_communication  static_usd_rate  name_len_clean  \\\n",
      "0    1500.0                      0         1.000000               9   \n",
      "1     500.0                      0         1.000000               4   \n",
      "2  100000.0                      0         1.000000               8   \n",
      "3    5000.0                      0         1.000000               6   \n",
      "4    3222.0                      0         1.114613               7   \n",
      "\n",
      "   blurb_len_clean  deadline_month  deadline_day  deadline_hr  \\\n",
      "0               16               1            23           10   \n",
      "1               15               5             1           16   \n",
      "2               10               3            26            8   \n",
      "3               13              10             6            0   \n",
      "4               18               6            27           12   \n",
      "\n",
      "   created_at_month  created_at_day  created_at_hr  launched_at_month  \\\n",
      "0                11              29             22                 12   \n",
      "1                 2              20              9                  3   \n",
      "2                 1              24              0                  1   \n",
      "3                 9               5             22                  9   \n",
      "4                 5              25             14                  5   \n",
      "\n",
      "   launched_at_day  launched_at_yr  launched_at_hr  create_to_launch_days  \\\n",
      "0               17            2014              13              17.619201   \n",
      "1                2            2015              16              10.281007   \n",
      "2               25            2015               8               1.339560   \n",
      "3                6            2014               0               0.091169   \n",
      "4               26            2016               5               0.658079   \n",
      "\n",
      "   LaunchedTuesday  DeadlineWeekend  disable_communication  staff_pick  \\\n",
      "0        -0.539026        -0.642241                  False       False   \n",
      "1        -0.539026        -0.642241                  False       False   \n",
      "2        -0.539026        -0.642241                  False       False   \n",
      "3        -0.539026        -0.642241                  False       False   \n",
      "4        -0.539026        -0.642241                  False       False   \n",
      "\n",
      "  deadline_weekday state_changed_at_weekday created_at_weekday  \\\n",
      "0           Friday                   Friday           Saturday   \n",
      "1           Friday                   Friday             Friday   \n",
      "2         Thursday                 Thursday           Saturday   \n",
      "3           Monday                   Monday             Friday   \n",
      "4           Monday                   Monday          Wednesday   \n",
      "\n",
      "  launched_at_weekday  SuccessfulBool  app  help       new     world  canceled  \n",
      "0           Wednesday               0  0.0   0.0  0.000000  0.000000       0.0  \n",
      "1              Monday               0  0.0   0.0  0.000000  0.000000       0.0  \n",
      "2              Sunday               0  0.0   0.0  0.000000  0.655029       0.0  \n",
      "3            Saturday               0  0.0   0.0  0.641133  0.000000       0.0  \n",
      "4            Thursday               0  0.0   0.0  0.000000  0.000000       0.0  \n"
     ]
    }
   ],
   "source": [
    "# Dropping columns before training\n",
    "cols_to_drop = [\n",
    "    'name',\n",
    "    'blurb',\n",
    "    'category',\n",
    "    'country',\n",
    "    'currency',\n",
    "    'deadline',\n",
    "    'state_changed_at',\n",
    "    'created_at',\n",
    "    'launched_at',\n",
    "    'launch_to_state_change',\n",
    "    'create_to_launch',\n",
    "    'launch_to_deadline',\n",
    "    'currency_grouped',\n",
    "    'category_grouped',\n",
    "    'country_grouped',\n",
    "    'spotlight' # Manually dropping the spotlight column as this is a source for data leakage\n",
    "]\n",
    "\n",
    "features_to_drop = ['usd_pledged', 'staff_pick', 'backers_count']\n",
    "starter_df = full_kickstarter_df.drop(cols_to_drop, axis=1)\n",
    "\n",
    "def safe_drop_columns(df, features_to_drop):\n",
    "    for column in features_to_drop:\n",
    "        if column in df.columns.tolist():\n",
    "            df.drop(column, axis=1, inplace=True)\n",
    "safe_drop_columns(starter_df, features_to_drop)\n",
    "print(starter_df.head())"
   ]
  },
  {
   "cell_type": "markdown",
   "id": "17bf42fe",
   "metadata": {},
   "source": [
    "Many columns are labeled with true/false variables. SVMs are mathematical models requiring numerical inputs. "
   ]
  },
  {
   "cell_type": "code",
   "execution_count": 14,
   "id": "b8c01cf8",
   "metadata": {},
   "outputs": [],
   "source": [
    "for col in starter_df.columns:\n",
    "    if starter_df[col].dtype == bool:\n",
    "        starter_df[col] = starter_df[col].astype(int)"
   ]
  },
  {
   "cell_type": "code",
   "execution_count": 43,
   "id": "59da250d",
   "metadata": {},
   "outputs": [
    {
     "name": "stderr",
     "output_type": "stream",
     "text": [
      "/var/folders/8m/mq73xyj94h5fkfc5t6y23vkr0000gn/T/ipykernel_1221/2920319086.py:8: FutureWarning: Downcasting behavior in `replace` is deprecated and will be removed in a future version. To retain the old behavior, explicitly call `result.infer_objects(copy=False)`. To opt-in to the future behavior, set `pd.set_option('future.no_silent_downcasting', True)`\n",
      "  .replace(weekday_map)\n"
     ]
    }
   ],
   "source": [
    "# Encode weekday columns (from names to numbers if needed)\n",
    "days_cols = ['deadline_weekday', 'state_changed_at_weekday', 'created_at_weekday', 'launched_at_weekday']\n",
    "weekday_map = {'Monday': 0, 'Tuesday': 1, 'Wednesday': 2, 'Thursday': 3,\n",
    "               'Friday': 4, 'Saturday': 5, 'Sunday': 6}\n",
    "\n",
    "starter_df[days_cols] = (\n",
    "    starter_df[days_cols]\n",
    "    .replace(weekday_map)\n",
    "    .infer_objects(copy=False)\n",
    ")"
   ]
  },
  {
   "cell_type": "code",
   "execution_count": 44,
   "id": "8f9ce0a7",
   "metadata": {},
   "outputs": [
    {
     "name": "stdout",
     "output_type": "stream",
     "text": [
      "goal                          float64\n",
      "disable_communication           int64\n",
      "static_usd_rate               float64\n",
      "name_len_clean                  int64\n",
      "blurb_len_clean                 int64\n",
      "                               ...   \n",
      "category_grouped_Plays          int64\n",
      "category_grouped_Software       int64\n",
      "category_grouped_Sound          int64\n",
      "category_grouped_Wearables      int64\n",
      "category_grouped_Web            int64\n",
      "Length: 74, dtype: object\n"
     ]
    }
   ],
   "source": [
    "print(starter_df.dtypes)"
   ]
  },
  {
   "cell_type": "markdown",
   "id": "1000a63b",
   "metadata": {},
   "source": [
    "<h3>Preliminary Analysis with Minimal Model Tuning</h3>"
   ]
  },
  {
   "cell_type": "code",
   "execution_count": 15,
   "id": "3d89fcf3",
   "metadata": {},
   "outputs": [],
   "source": [
    "# All input features\n",
    "X = starter_df.drop('SuccessfulBool', axis=1)\n",
    "\n",
    "# Get the output\n",
    "Y = starter_df['SuccessfulBool']\n",
    "\n",
    "models = [\n",
    "    ('RBF SVC SVM', SVC(kernel='rbf', C=1, random_state=42)), # RBF is the default for SVM\n",
    "    ('RBF NuSVC SVM', NuSVC(kernel='rbf', random_state=42)),\n",
    "]"
   ]
  },
  {
   "cell_type": "code",
   "execution_count": 90,
   "id": "53694386",
   "metadata": {},
   "outputs": [
    {
     "name": "stdout",
     "output_type": "stream",
     "text": [
      "RBF SVC SVM: 0.7083 accuracy (±0.0090)\n",
      "RBF NuSVC SVM: 0.3301 accuracy (±0.0232)\n"
     ]
    }
   ],
   "source": [
    "results = []\n",
    "preliminary_results = []\n",
    "names = []\n",
    "scoring = 'accuracy'\n",
    "kfold = KFold(n_splits=10, shuffle=True, random_state=42)\n",
    "\n",
    "for name, model in models:\n",
    "    cv_results = cross_val_score(model, X, Y, cv=kfold, scoring=scoring)\n",
    "    results.append(cv_results)\n",
    "    names.append(name)\n",
    "    print(f\"{name}: {cv_results.mean():.4f} accuracy (±{cv_results.std():.4f})\")"
   ]
  },
  {
   "cell_type": "markdown",
   "id": "f91f9cd5",
   "metadata": {},
   "source": [
    "<h3>Analysis of Different Kernel Functions</h3>"
   ]
  },
  {
   "cell_type": "markdown",
   "id": "e65ebff9",
   "metadata": {},
   "source": [
    "<strong>Kernal Function Notes</strong>\n",
    "The kernel function is used to take data as input and transform it into the required form of processing data.\n",
    "\n",
    "[1] Linear Kernel: This is best suited for data that is linearly separable. From EDA, we did not see much linear correlation between the input and output data. As a result, we skip this kernel.\n",
    "\n",
    "[2] Polynomial Kernel: This allows for mapping of more complex relationships by introducing polynomial terms. This is useful for data that is not linearly separable but still follows a pattern.\n",
    "\n",
    "[3] RBF Kernel: This is the most widely used kerne;. It maps the data into an infinite-dimensional space marking it highly effective for complex classification problems. We use this when the decision boundary is highly non-linear.\n",
    "\n",
    "[4] Sigmoid: This is inspired by neural networks. It is suitable for neural networks and non-linear classifiers.\n",
    "\n",
    "Source: https://www.geeksforgeeks.org/major-kernel-functions-in-support-vector-machine-svm/\n",
    "A cool video for kernal visualization: https://www.youtube.com/watch?v=3liCbRZPrZA"
   ]
  },
  {
   "cell_type": "code",
   "execution_count": null,
   "id": "3d2b5e1f",
   "metadata": {},
   "outputs": [
    {
     "name": "stdout",
     "output_type": "stream",
     "text": [
      "Poly SVC SVM: 0.7083 accuracy (±0.0090)\n",
      "Sigmoid SVC SVM: 0.6852 accuracy (±0.0071)\n",
      "Poly NuSVC SVM: 0.3258 accuracy (±0.0657)\n",
      "Sigmoid NuSVC SVM: 0.5038 accuracy (±0.0808)\n"
     ]
    }
   ],
   "source": [
    "kernel_models = [\n",
    "    ('Poly SVC SVM', SVC(kernel='poly', C=1, random_state=42)),\n",
    "    ('Sigmoid SVC SVM', SVC(kernel='sigmoid', C=1, random_state=42)),\n",
    "\n",
    "    ('Poly NuSVC SVM', NuSVC(kernel='poly', random_state=42)),\n",
    "    ('Sigmoid NuSVC SVM', NuSVC(kernel='sigmoid', random_state=42))\n",
    "]\n",
    "\n",
    "kernel_results = []\n",
    "kernel_preliminary_results = []\n",
    "kernel_names = []\n",
    "scoring = 'accuracy'\n",
    "for name, model in kernel_models:\n",
    "    cv_results = cross_val_score(model, X, Y, cv=kfold, scoring=scoring, n_jobs=1)\n",
    "    kernel_results.append(cv_results)\n",
    "    kernel_names.append(name)\n",
    "    print(f\"{name}: {cv_results.mean():.4f} accuracy (±{cv_results.std():.4f})\")"
   ]
  },
  {
   "cell_type": "code",
   "execution_count": 92,
   "id": "fc678c3d",
   "metadata": {},
   "outputs": [
    {
     "data": {
      "image/png": "[encoded data removed]",
      "text/plain": [
       "<Figure size 1000x1000 with 1 Axes>"
      ]
     },
     "metadata": {},
     "output_type": "display_data"
    }
   ],
   "source": [
    "plt.figure(figsize=(10, 10))\n",
    "plt.boxplot(kernel_results + results)\n",
    "plt.title('Model Kernel Functions Comparison')\n",
    "plt.ylabel('Accuracy')\n",
    "all_names = kernel_names + names\n",
    "plt.xticks(range(1, len(all_names) + 1), all_names)\n",
    "plt.grid(True)\n",
    "plt.show()"
   ]
  },
  {
   "cell_type": "markdown",
   "id": "e36d587d",
   "metadata": {},
   "source": [
    "From the analysis of the kernel functions, so far it seems that RBF might be the best choice. However, given that the input paramters are default, tuning the paramters further can help with model accuracy.\n",
    "\n",
    "<strong>A summary of the results:</strong>\n",
    "\n",
    "[1] RBF SVC: Best overall given our nonlinear data. Relatively low standard deviation\n",
    "\n",
    "[2] RBG NuSVC: Still strong, slightly worse that the previous\n",
    "\n",
    "[3] Sigmoid SVC and NuSVM: These perform similarily to each other\n",
    "\n",
    "[4] Poly SVC: Weaker than other models. Poly SVC in general is sensitive to regularization value C, so tuning this is of interest.\n",
    "\n",
    "[5] Poly NuSVC: Weaker which might indicate this model is overfitting. The accuracy of the models vary widely from 0.3 and ~0.75. These tells us the models are not doing well across different folds indicating the model might be potentially overfitted.\n",
    "\n",
    "These models have a fairly low standard devilation indicating that the model is consistent and stable across different folds. \n",
    "Further analysis such as looking at the ROC and AUC scores of these classification models is required."
   ]
  },
  {
   "cell_type": "markdown",
   "id": "51f1a7f6",
   "metadata": {},
   "source": [
    "<h3>Analysis of Regularization Parameter for SVCs</h3>\n",
    "\n",
    "<strong>Background</strong>\n",
    "\n",
    "The parameter C is used to set the amount of regularization, or a technqiue to reduce overfitting. C controls the trade-off between margin width and classification error.\n",
    "Given that the Poly SVC model seems to be overfitted, we will test different regularization amounts for Poly SVC and RBF SVC (previously model accurate model). \n",
    "\n",
    "A low C indicates a larger margin and a model that is more tolerant for misclassification. A high C has more narrow margin making it less tolerant for error.\n",
    "\n",
    "Source: \n",
    "https://scikit-learn.org/stable/auto_examples/svm/plot_svm_scale_c.html#sphx-glr-auto-examples-svm-plot-svm-scale-c-py"
   ]
  },
  {
   "cell_type": "markdown",
   "id": "39fabf03",
   "metadata": {},
   "source": [
    "<strong>Regularization Tuning for RBF SVC Functions</strong>"
   ]
  },
  {
   "cell_type": "code",
   "execution_count": 93,
   "id": "c4c42438",
   "metadata": {},
   "outputs": [
    {
     "name": "stdout",
     "output_type": "stream",
     "text": [
      "C=0.001: Mean accuracy = 0.7083, Std = 0.0090\n",
      "C=0.01: Mean accuracy = 0.7083, Std = 0.0090\n",
      "C=0.1: Mean accuracy = 0.7083, Std = 0.0090\n",
      "C=1: Mean accuracy = 0.7083, Std = 0.0090\n",
      "C=10: Mean accuracy = 0.7083, Std = 0.0090\n",
      "C=100: Mean accuracy = 0.7083, Std = 0.0090\n",
      "C=1000: Mean accuracy = 0.7083, Std = 0.0090\n"
     ]
    }
   ],
   "source": [
    "C_values = [0.001, 0.01, 0.1, 1, 10, 100, 1000]\n",
    "rbf_regularization_results = []\n",
    "\n",
    "for C in C_values:\n",
    "    model = SVC(kernel='rbf', C=C, random_state=42)\n",
    "    cv_results = cross_val_score(model, X, Y, cv=kfold, scoring='accuracy', n_jobs=-1)\n",
    "    rbf_regularization_results.append(cv_results)\n",
    "    print(f\"C={C}: Mean accuracy = {cv_results.mean():.4f}, Std = {cv_results.std():.4f}\")"
   ]
  },
  {
   "cell_type": "code",
   "execution_count": 94,
   "id": "6930fa59",
   "metadata": {},
   "outputs": [
    {
     "data": {
      "image/png": "[encoded data removed]",
      "text/plain": [
       "<Figure size 1000x1000 with 1 Axes>"
      ]
     },
     "metadata": {},
     "output_type": "display_data"
    }
   ],
   "source": [
    "plt.figure(figsize=(10, 10))\n",
    "plt.boxplot(rbf_regularization_results)\n",
    "plt.title('Regularization Values Comparison for RBF')\n",
    "plt.ylabel('Accuracy')\n",
    "plt.xticks(range(1, len(C_values) + 1), C_values)\n",
    "plt.grid(True)\n",
    "plt.show()"
   ]
  },
  {
   "cell_type": "code",
   "execution_count": null,
   "id": "7ba5c3fe",
   "metadata": {},
   "outputs": [
    {
     "data": {
      "image/png": "[encoded data removed]",
      "text/plain": [
       "<Figure size 800x600 with 1 Axes>"
      ]
     },
     "metadata": {},
     "output_type": "display_data"
    }
   ],
   "source": [
    "# Split into train/test\n",
    "X_train, X_test, y_train, y_test = train_test_split(X, Y, test_size=0.3, random_state=42)\n",
    "\n",
    "# Fit model\n",
    "model = SVC(kernel='rbf', C=1000, probability=True, random_state=42)\n",
    "model.fit(X_train, y_train)\n",
    "\n",
    "# Predict probabilities for the positive class\n",
    "y_proba = model.predict_proba(X_test)[:, 1]\n",
    "\n",
    "# Plot ROC\n",
    "predictive_probability_results(y_test, y_proba, label=\"RBF SVC (C=1000)\", title=\"ROC Curve for RBF SVM\")"
   ]
  },
  {
   "cell_type": "markdown",
   "id": "82e69e4d",
   "metadata": {},
   "source": [
    "For RBF SWM, we see that as C increases, there is virtually no improvement in the model accuracy and standard deviation. \n",
    "\n",
    "We also observe the ROC/AUC score for the model with C=1000. The AUC score indicates that the model is close to randomly guessing. However, given other tuning paramters there is room for improvement."
   ]
  },
  {
   "cell_type": "markdown",
   "id": "45047dc4",
   "metadata": {},
   "source": [
    "<strong>Regularization Tuning for Poly SVC Functions</strong>"
   ]
  },
  {
   "cell_type": "code",
   "execution_count": 96,
   "id": "2c0010f9",
   "metadata": {},
   "outputs": [
    {
     "name": "stdout",
     "output_type": "stream",
     "text": [
      "C=0.001: Mean accuracy = 0.7083, Std = 0.0090\n",
      "C=0.01: Mean accuracy = 0.7083, Std = 0.0090\n",
      "C=0.1: Mean accuracy = 0.7083, Std = 0.0090\n",
      "C=1: Mean accuracy = 0.7083, Std = 0.0090\n",
      "C=10: Mean accuracy = 0.7083, Std = 0.0090\n",
      "C=100: Mean accuracy = 0.7083, Std = 0.0090\n",
      "C=1000: Mean accuracy = 0.7083, Std = 0.0090\n"
     ]
    }
   ],
   "source": [
    "C_values = [0.001, 0.01, 0.1, 1, 10, 100, 1000]\n",
    "poly_regularization_results = []\n",
    "\n",
    "for C in C_values:\n",
    "    model = SVC(kernel='poly', C=C, random_state=42)\n",
    "    cv_results = cross_val_score(model, X, Y, cv=kfold, scoring='accuracy', n_jobs=-1)\n",
    "    poly_regularization_results.append(cv_results)\n",
    "    print(f\"C={C}: Mean accuracy = {cv_results.mean():.4f}, Std = {cv_results.std():.4f}\")"
   ]
  },
  {
   "cell_type": "markdown",
   "id": "b040c021",
   "metadata": {},
   "source": [
    "The data does not seem to be overfitted as with varying values of regularization, the model performs consistently around 71% accuracy with relatively low standard deviation. It might be worth adjusting the gamma coefficient before ruling out this kernel completely.\n",
    "\n",
    "In NuSVC, the nu parameter defines an upper bound on the fraction of margin errors and a lower bound on the fraction of support vectors.\n",
    "For example, setting nu = 0.4 guarantees that no more than 40% of the training data will be margin violators, and at least 40% will be support vectors\n",
    "\n",
    "Source: https://scikit-learn.org/stable/modules/generated/sklearn.svm.NuSVC.html"
   ]
  },
  {
   "cell_type": "code",
   "execution_count": 97,
   "id": "ca211ebf",
   "metadata": {},
   "outputs": [
    {
     "name": "stdout",
     "output_type": "stream",
     "text": [
      "Nu=0.5: Mean accuracy = 0.3258, Std = 0.0657\n",
      "Nu=0.4: Mean accuracy = 0.3745, Std = 0.1163\n",
      "Nu=0.3: Mean accuracy = 0.3660, Std = 0.1089\n"
     ]
    }
   ],
   "source": [
    "nu_value = [0.5, 0.4, 0.3]\n",
    "poly_nu_regularization_results = []\n",
    "\n",
    "for nu in nu_value:\n",
    "    model = NuSVC(kernel='poly', nu=nu, random_state=42)\n",
    "    cv_results = cross_val_score(model, X, Y, cv=kfold, scoring='accuracy', n_jobs=1)\n",
    "    poly_nu_regularization_results.append(cv_results)\n",
    "    print(f\"Nu={nu}: Mean accuracy = {cv_results.mean():.4f}, Std = {cv_results.std():.4f}\")"
   ]
  },
  {
   "cell_type": "markdown",
   "id": "27bf6164",
   "metadata": {},
   "source": [
    "We see that varying the nu value yeilds a mean accuracy of about ~35%. The highest standard deviation of 11.6 indicates instability across folds. From here, it is work considering a different kernal."
   ]
  },
  {
   "cell_type": "markdown",
   "id": "e54c4f3b",
   "metadata": {},
   "source": [
    "<h3>Analysis of Gamma Parameter for SVCs</h3>\n",
    "<strong>Gamma Parameter Notes</strong>\n",
    "This play a crucial role in defing the behavior of the decision boundary. \n",
    "\n",
    "A low gamma means the influence of a single training example reach far and affects a larger region of feature space. This means smoother and less complex decision boundaries. This can lead to underfitting.\n",
    "\n",
    "A high gamma makes the decision boundary very tight around individual data points. This can lead to overfitting where the model captures noize and responds poorly to new, unseen data.\n",
    "\n",
    "The default value of gamma is scale which is dependent on the features and variance. Auto is simply dependent on the features ignoring the actual data distribution. \n",
    "\n",
    "Source: https://www.geeksforgeeks.org/gamma-parameter-in-svm/\n"
   ]
  },
  {
   "cell_type": "code",
   "execution_count": 98,
   "id": "14e25130",
   "metadata": {},
   "outputs": [
    {
     "name": "stdout",
     "output_type": "stream",
     "text": [
      "gamma=0.0001, C-value=0.001, Mean accuracy = 0.7083, Std = 0.0090\n",
      "gamma=0.0001, C-value=0.01, Mean accuracy = 0.7083, Std = 0.0090\n",
      "gamma=0.0001, C-value=0.1, Mean accuracy = 0.7106, Std = 0.0102\n",
      "gamma=0.0001, C-value=1, Mean accuracy = 0.7181, Std = 0.0097\n",
      "gamma=0.0001, C-value=10, Mean accuracy = 0.7160, Std = 0.0093\n",
      "gamma=0.0001, C-value=100, Mean accuracy = 0.7109, Std = 0.0098\n",
      "gamma=0.0001, C-value=1000, Mean accuracy = 0.7024, Std = 0.0110\n",
      "gamma=0.001, C-value=0.001, Mean accuracy = 0.7083, Std = 0.0090\n",
      "gamma=0.001, C-value=0.01, Mean accuracy = 0.7083, Std = 0.0090\n",
      "gamma=0.001, C-value=0.1, Mean accuracy = 0.7085, Std = 0.0093\n",
      "gamma=0.001, C-value=1, Mean accuracy = 0.7180, Std = 0.0110\n",
      "gamma=0.001, C-value=10, Mean accuracy = 0.6967, Std = 0.0079\n",
      "gamma=0.001, C-value=100, Mean accuracy = 0.6865, Std = 0.0069\n",
      "gamma=0.001, C-value=1000, Mean accuracy = 0.6828, Std = 0.0067\n",
      "gamma=0.01, C-value=0.001, Mean accuracy = 0.7083, Std = 0.0090\n",
      "gamma=0.01, C-value=0.01, Mean accuracy = 0.7083, Std = 0.0090\n",
      "gamma=0.01, C-value=0.1, Mean accuracy = 0.7083, Std = 0.0090\n",
      "gamma=0.01, C-value=1, Mean accuracy = 0.7065, Std = 0.0090\n",
      "gamma=0.01, C-value=10, Mean accuracy = 0.7007, Std = 0.0095\n",
      "gamma=0.01, C-value=100, Mean accuracy = 0.7007, Std = 0.0095\n",
      "gamma=0.01, C-value=1000, Mean accuracy = 0.7007, Std = 0.0095\n",
      "gamma=1, C-value=0.001, Mean accuracy = 0.7083, Std = 0.0090\n",
      "gamma=1, C-value=0.01, Mean accuracy = 0.7083, Std = 0.0090\n",
      "gamma=1, C-value=0.1, Mean accuracy = 0.7083, Std = 0.0090\n",
      "gamma=1, C-value=1, Mean accuracy = 0.7083, Std = 0.0090\n",
      "gamma=1, C-value=10, Mean accuracy = 0.7083, Std = 0.0090\n",
      "gamma=1, C-value=100, Mean accuracy = 0.7083, Std = 0.0090\n",
      "gamma=1, C-value=1000, Mean accuracy = 0.7083, Std = 0.0090\n",
      "gamma=10, C-value=0.001, Mean accuracy = 0.7083, Std = 0.0090\n",
      "gamma=10, C-value=0.01, Mean accuracy = 0.7083, Std = 0.0090\n",
      "gamma=10, C-value=0.1, Mean accuracy = 0.7083, Std = 0.0090\n",
      "gamma=10, C-value=1, Mean accuracy = 0.7083, Std = 0.0090\n",
      "gamma=10, C-value=10, Mean accuracy = 0.7083, Std = 0.0090\n",
      "gamma=10, C-value=100, Mean accuracy = 0.7083, Std = 0.0090\n",
      "gamma=10, C-value=1000, Mean accuracy = 0.7083, Std = 0.0090\n",
      "gamma=100, C-value=0.001, Mean accuracy = 0.7083, Std = 0.0090\n",
      "gamma=100, C-value=0.01, Mean accuracy = 0.7083, Std = 0.0090\n",
      "gamma=100, C-value=0.1, Mean accuracy = 0.7083, Std = 0.0090\n",
      "gamma=100, C-value=1, Mean accuracy = 0.7083, Std = 0.0090\n",
      "gamma=100, C-value=10, Mean accuracy = 0.7083, Std = 0.0090\n",
      "gamma=100, C-value=100, Mean accuracy = 0.7083, Std = 0.0090\n",
      "gamma=100, C-value=1000, Mean accuracy = 0.7083, Std = 0.0090\n",
      "gamma=1000, C-value=0.001, Mean accuracy = 0.7083, Std = 0.0090\n",
      "gamma=1000, C-value=0.01, Mean accuracy = 0.7083, Std = 0.0090\n",
      "gamma=1000, C-value=0.1, Mean accuracy = 0.7083, Std = 0.0090\n",
      "gamma=1000, C-value=1, Mean accuracy = 0.7083, Std = 0.0090\n",
      "gamma=1000, C-value=10, Mean accuracy = 0.7083, Std = 0.0090\n",
      "gamma=1000, C-value=100, Mean accuracy = 0.7083, Std = 0.0090\n",
      "gamma=1000, C-value=1000, Mean accuracy = 0.7083, Std = 0.0090\n"
     ]
    }
   ],
   "source": [
    "gamma_values = [0.0001, 0.001, 0.01, 1, 10, 100, 1000]\n",
    "C_values = [0.001, 0.01, 0.1, 1, 10, 100, 1000]\n",
    "rbf_gamma_results = []\n",
    "    \n",
    "for gamma in gamma_values:\n",
    "    for c in C_values:\n",
    "        model = SVC(kernel='rbf', C=c, gamma=gamma, random_state=42)\n",
    "        cv_results = cross_val_score(model, X, Y, cv=kfold, scoring='accuracy', n_jobs=1)\n",
    "        rbf_gamma_results.append(cv_results)\n",
    "        print(f\"gamma={gamma}, C-value={c}, Mean accuracy = {cv_results.mean():.4f}, Std = {cv_results.std():.4f}\")\n",
    "    "
   ]
  },
  {
   "cell_type": "markdown",
   "id": "26d71999",
   "metadata": {},
   "source": [
    "The top performer is gamma = 0.0001, C=1 with a mean accuracy of 0.7181, std=0.0097. Given that this gamma value is quite low, it indicates that our data works better with smoother decision boundaries. This provides us the best trade-off between accuracy and stability. \n",
    "\n",
    "We'll rerun this test with polynomial SVC, but with varying degrees. Because it did not seem that there was much difference when changing the c-value, we'll initially test with c-value of 1. Given the relationship is not highly linear, we will not test with a degree of 1, and will max out with a degree of 5. The default degree is 3, so we can disregard this."
   ]
  },
  {
   "cell_type": "code",
   "execution_count": null,
   "id": "14af21ab",
   "metadata": {},
   "outputs": [
    {
     "name": "stderr",
     "output_type": "stream",
     "text": [
      "/opt/anaconda3/lib/python3.11/site-packages/sklearn/svm/_base.py:305: ConvergenceWarning: Solver terminated early (max_iter=1000).  Consider pre-processing your data with StandardScaler or MinMaxScaler.\n",
      "  warnings.warn(\n",
      "/opt/anaconda3/lib/python3.11/site-packages/sklearn/svm/_base.py:305: ConvergenceWarning: Solver terminated early (max_iter=1000).  Consider pre-processing your data with StandardScaler or MinMaxScaler.\n",
      "  warnings.warn(\n",
      "/opt/anaconda3/lib/python3.11/site-packages/sklearn/svm/_base.py:305: ConvergenceWarning: Solver terminated early (max_iter=1000).  Consider pre-processing your data with StandardScaler or MinMaxScaler.\n",
      "  warnings.warn(\n",
      "/opt/anaconda3/lib/python3.11/site-packages/sklearn/svm/_base.py:305: ConvergenceWarning: Solver terminated early (max_iter=1000).  Consider pre-processing your data with StandardScaler or MinMaxScaler.\n",
      "  warnings.warn(\n",
      "/opt/anaconda3/lib/python3.11/site-packages/sklearn/svm/_base.py:305: ConvergenceWarning: Solver terminated early (max_iter=1000).  Consider pre-processing your data with StandardScaler or MinMaxScaler.\n",
      "  warnings.warn(\n",
      "/opt/anaconda3/lib/python3.11/site-packages/sklearn/svm/_base.py:305: ConvergenceWarning: Solver terminated early (max_iter=1000).  Consider pre-processing your data with StandardScaler or MinMaxScaler.\n",
      "  warnings.warn(\n",
      "/opt/anaconda3/lib/python3.11/site-packages/sklearn/svm/_base.py:305: ConvergenceWarning: Solver terminated early (max_iter=1000).  Consider pre-processing your data with StandardScaler or MinMaxScaler.\n",
      "  warnings.warn(\n",
      "/opt/anaconda3/lib/python3.11/site-packages/sklearn/svm/_base.py:305: ConvergenceWarning: Solver terminated early (max_iter=1000).  Consider pre-processing your data with StandardScaler or MinMaxScaler.\n",
      "  warnings.warn(\n",
      "/opt/anaconda3/lib/python3.11/site-packages/sklearn/svm/_base.py:305: ConvergenceWarning: Solver terminated early (max_iter=1000).  Consider pre-processing your data with StandardScaler or MinMaxScaler.\n",
      "  warnings.warn(\n",
      "/opt/anaconda3/lib/python3.11/site-packages/sklearn/svm/_base.py:305: ConvergenceWarning: Solver terminated early (max_iter=1000).  Consider pre-processing your data with StandardScaler or MinMaxScaler.\n",
      "  warnings.warn(\n"
     ]
    },
    {
     "name": "stdout",
     "output_type": "stream",
     "text": [
      "gamma=0.0001, poly_degree=2, Mean accuracy = 0.3792, Std = 0.1693\n"
     ]
    },
    {
     "name": "stderr",
     "output_type": "stream",
     "text": [
      "/opt/anaconda3/lib/python3.11/site-packages/sklearn/svm/_base.py:305: ConvergenceWarning: Solver terminated early (max_iter=1000).  Consider pre-processing your data with StandardScaler or MinMaxScaler.\n",
      "  warnings.warn(\n",
      "/opt/anaconda3/lib/python3.11/site-packages/sklearn/svm/_base.py:305: ConvergenceWarning: Solver terminated early (max_iter=1000).  Consider pre-processing your data with StandardScaler or MinMaxScaler.\n",
      "  warnings.warn(\n",
      "/opt/anaconda3/lib/python3.11/site-packages/sklearn/svm/_base.py:305: ConvergenceWarning: Solver terminated early (max_iter=1000).  Consider pre-processing your data with StandardScaler or MinMaxScaler.\n",
      "  warnings.warn(\n",
      "/opt/anaconda3/lib/python3.11/site-packages/sklearn/svm/_base.py:305: ConvergenceWarning: Solver terminated early (max_iter=1000).  Consider pre-processing your data with StandardScaler or MinMaxScaler.\n",
      "  warnings.warn(\n",
      "/opt/anaconda3/lib/python3.11/site-packages/sklearn/svm/_base.py:305: ConvergenceWarning: Solver terminated early (max_iter=1000).  Consider pre-processing your data with StandardScaler or MinMaxScaler.\n",
      "  warnings.warn(\n",
      "/opt/anaconda3/lib/python3.11/site-packages/sklearn/svm/_base.py:305: ConvergenceWarning: Solver terminated early (max_iter=1000).  Consider pre-processing your data with StandardScaler or MinMaxScaler.\n",
      "  warnings.warn(\n",
      "/opt/anaconda3/lib/python3.11/site-packages/sklearn/svm/_base.py:305: ConvergenceWarning: Solver terminated early (max_iter=1000).  Consider pre-processing your data with StandardScaler or MinMaxScaler.\n",
      "  warnings.warn(\n",
      "/opt/anaconda3/lib/python3.11/site-packages/sklearn/svm/_base.py:305: ConvergenceWarning: Solver terminated early (max_iter=1000).  Consider pre-processing your data with StandardScaler or MinMaxScaler.\n",
      "  warnings.warn(\n",
      "/opt/anaconda3/lib/python3.11/site-packages/sklearn/svm/_base.py:305: ConvergenceWarning: Solver terminated early (max_iter=1000).  Consider pre-processing your data with StandardScaler or MinMaxScaler.\n",
      "  warnings.warn(\n",
      "/opt/anaconda3/lib/python3.11/site-packages/sklearn/svm/_base.py:305: ConvergenceWarning: Solver terminated early (max_iter=1000).  Consider pre-processing your data with StandardScaler or MinMaxScaler.\n",
      "  warnings.warn(\n"
     ]
    },
    {
     "name": "stdout",
     "output_type": "stream",
     "text": [
      "gamma=0.0001, poly_degree=4, Mean accuracy = 0.5142, Std = 0.0143\n"
     ]
    },
    {
     "name": "stderr",
     "output_type": "stream",
     "text": [
      "/opt/anaconda3/lib/python3.11/site-packages/sklearn/svm/_base.py:305: ConvergenceWarning: Solver terminated early (max_iter=1000).  Consider pre-processing your data with StandardScaler or MinMaxScaler.\n",
      "  warnings.warn(\n",
      "/opt/anaconda3/lib/python3.11/site-packages/sklearn/svm/_base.py:305: ConvergenceWarning: Solver terminated early (max_iter=1000).  Consider pre-processing your data with StandardScaler or MinMaxScaler.\n",
      "  warnings.warn(\n",
      "/opt/anaconda3/lib/python3.11/site-packages/sklearn/svm/_base.py:305: ConvergenceWarning: Solver terminated early (max_iter=1000).  Consider pre-processing your data with StandardScaler or MinMaxScaler.\n",
      "  warnings.warn(\n",
      "/opt/anaconda3/lib/python3.11/site-packages/sklearn/svm/_base.py:305: ConvergenceWarning: Solver terminated early (max_iter=1000).  Consider pre-processing your data with StandardScaler or MinMaxScaler.\n",
      "  warnings.warn(\n",
      "/opt/anaconda3/lib/python3.11/site-packages/sklearn/svm/_base.py:305: ConvergenceWarning: Solver terminated early (max_iter=1000).  Consider pre-processing your data with StandardScaler or MinMaxScaler.\n",
      "  warnings.warn(\n",
      "/opt/anaconda3/lib/python3.11/site-packages/sklearn/svm/_base.py:305: ConvergenceWarning: Solver terminated early (max_iter=1000).  Consider pre-processing your data with StandardScaler or MinMaxScaler.\n",
      "  warnings.warn(\n",
      "/opt/anaconda3/lib/python3.11/site-packages/sklearn/svm/_base.py:305: ConvergenceWarning: Solver terminated early (max_iter=1000).  Consider pre-processing your data with StandardScaler or MinMaxScaler.\n",
      "  warnings.warn(\n",
      "/opt/anaconda3/lib/python3.11/site-packages/sklearn/svm/_base.py:305: ConvergenceWarning: Solver terminated early (max_iter=1000).  Consider pre-processing your data with StandardScaler or MinMaxScaler.\n",
      "  warnings.warn(\n",
      "/opt/anaconda3/lib/python3.11/site-packages/sklearn/svm/_base.py:305: ConvergenceWarning: Solver terminated early (max_iter=1000).  Consider pre-processing your data with StandardScaler or MinMaxScaler.\n",
      "  warnings.warn(\n",
      "/opt/anaconda3/lib/python3.11/site-packages/sklearn/svm/_base.py:305: ConvergenceWarning: Solver terminated early (max_iter=1000).  Consider pre-processing your data with StandardScaler or MinMaxScaler.\n",
      "  warnings.warn(\n"
     ]
    },
    {
     "name": "stdout",
     "output_type": "stream",
     "text": [
      "gamma=0.0001, poly_degree=5, Mean accuracy = 0.5130, Std = 0.0461\n"
     ]
    },
    {
     "name": "stderr",
     "output_type": "stream",
     "text": [
      "/opt/anaconda3/lib/python3.11/site-packages/sklearn/svm/_base.py:305: ConvergenceWarning: Solver terminated early (max_iter=1000).  Consider pre-processing your data with StandardScaler or MinMaxScaler.\n",
      "  warnings.warn(\n",
      "/opt/anaconda3/lib/python3.11/site-packages/sklearn/svm/_base.py:305: ConvergenceWarning: Solver terminated early (max_iter=1000).  Consider pre-processing your data with StandardScaler or MinMaxScaler.\n",
      "  warnings.warn(\n",
      "/opt/anaconda3/lib/python3.11/site-packages/sklearn/svm/_base.py:305: ConvergenceWarning: Solver terminated early (max_iter=1000).  Consider pre-processing your data with StandardScaler or MinMaxScaler.\n",
      "  warnings.warn(\n",
      "/opt/anaconda3/lib/python3.11/site-packages/sklearn/svm/_base.py:305: ConvergenceWarning: Solver terminated early (max_iter=1000).  Consider pre-processing your data with StandardScaler or MinMaxScaler.\n",
      "  warnings.warn(\n",
      "/opt/anaconda3/lib/python3.11/site-packages/sklearn/svm/_base.py:305: ConvergenceWarning: Solver terminated early (max_iter=1000).  Consider pre-processing your data with StandardScaler or MinMaxScaler.\n",
      "  warnings.warn(\n",
      "/opt/anaconda3/lib/python3.11/site-packages/sklearn/svm/_base.py:305: ConvergenceWarning: Solver terminated early (max_iter=1000).  Consider pre-processing your data with StandardScaler or MinMaxScaler.\n",
      "  warnings.warn(\n",
      "/opt/anaconda3/lib/python3.11/site-packages/sklearn/svm/_base.py:305: ConvergenceWarning: Solver terminated early (max_iter=1000).  Consider pre-processing your data with StandardScaler or MinMaxScaler.\n",
      "  warnings.warn(\n",
      "/opt/anaconda3/lib/python3.11/site-packages/sklearn/svm/_base.py:305: ConvergenceWarning: Solver terminated early (max_iter=1000).  Consider pre-processing your data with StandardScaler or MinMaxScaler.\n",
      "  warnings.warn(\n",
      "/opt/anaconda3/lib/python3.11/site-packages/sklearn/svm/_base.py:305: ConvergenceWarning: Solver terminated early (max_iter=1000).  Consider pre-processing your data with StandardScaler or MinMaxScaler.\n",
      "  warnings.warn(\n",
      "/opt/anaconda3/lib/python3.11/site-packages/sklearn/svm/_base.py:305: ConvergenceWarning: Solver terminated early (max_iter=1000).  Consider pre-processing your data with StandardScaler or MinMaxScaler.\n",
      "  warnings.warn(\n"
     ]
    },
    {
     "name": "stdout",
     "output_type": "stream",
     "text": [
      "gamma=0.001, poly_degree=2, Mean accuracy = 0.4570, Std = 0.2034\n"
     ]
    },
    {
     "name": "stderr",
     "output_type": "stream",
     "text": [
      "/opt/anaconda3/lib/python3.11/site-packages/sklearn/svm/_base.py:305: ConvergenceWarning: Solver terminated early (max_iter=1000).  Consider pre-processing your data with StandardScaler or MinMaxScaler.\n",
      "  warnings.warn(\n",
      "/opt/anaconda3/lib/python3.11/site-packages/sklearn/svm/_base.py:305: ConvergenceWarning: Solver terminated early (max_iter=1000).  Consider pre-processing your data with StandardScaler or MinMaxScaler.\n",
      "  warnings.warn(\n",
      "/opt/anaconda3/lib/python3.11/site-packages/sklearn/svm/_base.py:305: ConvergenceWarning: Solver terminated early (max_iter=1000).  Consider pre-processing your data with StandardScaler or MinMaxScaler.\n",
      "  warnings.warn(\n",
      "/opt/anaconda3/lib/python3.11/site-packages/sklearn/svm/_base.py:305: ConvergenceWarning: Solver terminated early (max_iter=1000).  Consider pre-processing your data with StandardScaler or MinMaxScaler.\n",
      "  warnings.warn(\n",
      "/opt/anaconda3/lib/python3.11/site-packages/sklearn/svm/_base.py:305: ConvergenceWarning: Solver terminated early (max_iter=1000).  Consider pre-processing your data with StandardScaler or MinMaxScaler.\n",
      "  warnings.warn(\n",
      "/opt/anaconda3/lib/python3.11/site-packages/sklearn/svm/_base.py:305: ConvergenceWarning: Solver terminated early (max_iter=1000).  Consider pre-processing your data with StandardScaler or MinMaxScaler.\n",
      "  warnings.warn(\n",
      "/opt/anaconda3/lib/python3.11/site-packages/sklearn/svm/_base.py:305: ConvergenceWarning: Solver terminated early (max_iter=1000).  Consider pre-processing your data with StandardScaler or MinMaxScaler.\n",
      "  warnings.warn(\n",
      "/opt/anaconda3/lib/python3.11/site-packages/sklearn/svm/_base.py:305: ConvergenceWarning: Solver terminated early (max_iter=1000).  Consider pre-processing your data with StandardScaler or MinMaxScaler.\n",
      "  warnings.warn(\n",
      "/opt/anaconda3/lib/python3.11/site-packages/sklearn/svm/_base.py:305: ConvergenceWarning: Solver terminated early (max_iter=1000).  Consider pre-processing your data with StandardScaler or MinMaxScaler.\n",
      "  warnings.warn(\n",
      "/opt/anaconda3/lib/python3.11/site-packages/sklearn/svm/_base.py:305: ConvergenceWarning: Solver terminated early (max_iter=1000).  Consider pre-processing your data with StandardScaler or MinMaxScaler.\n",
      "  warnings.warn(\n",
      "/opt/anaconda3/lib/python3.11/site-packages/sklearn/model_selection/_validation.py:528: FitFailedWarning: \n",
      "1 fits failed out of a total of 10.\n",
      "The score on these train-test partitions for these parameters will be set to nan.\n",
      "If these failures are not expected, you can try to debug them by setting error_score='raise'.\n",
      "\n",
      "Below are more details about the failures:\n",
      "--------------------------------------------------------------------------------\n",
      "1 fits failed with the following error:\n",
      "Traceback (most recent call last):\n",
      "  File \"/opt/anaconda3/lib/python3.11/site-packages/sklearn/model_selection/_validation.py\", line 866, in _fit_and_score\n",
      "    estimator.fit(X_train, y_train, **fit_params)\n",
      "  File \"/opt/anaconda3/lib/python3.11/site-packages/sklearn/base.py\", line 1389, in wrapper\n",
      "    return fit_method(estimator, *args, **kwargs)\n",
      "           ^^^^^^^^^^^^^^^^^^^^^^^^^^^^^^^^^^^^^^\n",
      "  File \"/opt/anaconda3/lib/python3.11/site-packages/sklearn/svm/_base.py\", line 276, in fit\n",
      "    raise ValueError(\n",
      "ValueError: The dual coefficients or intercepts are not finite. The input data may contain large values and need to be preprocessed.\n",
      "\n",
      "  warnings.warn(some_fits_failed_message, FitFailedWarning)\n"
     ]
    },
    {
     "name": "stdout",
     "output_type": "stream",
     "text": [
      "gamma=0.001, poly_degree=4, Mean accuracy = nan, Std = nan\n"
     ]
    },
    {
     "name": "stderr",
     "output_type": "stream",
     "text": [
      "/opt/anaconda3/lib/python3.11/site-packages/sklearn/svm/_base.py:305: ConvergenceWarning: Solver terminated early (max_iter=1000).  Consider pre-processing your data with StandardScaler or MinMaxScaler.\n",
      "  warnings.warn(\n",
      "/opt/anaconda3/lib/python3.11/site-packages/sklearn/svm/_base.py:305: ConvergenceWarning: Solver terminated early (max_iter=1000).  Consider pre-processing your data with StandardScaler or MinMaxScaler.\n",
      "  warnings.warn(\n",
      "/opt/anaconda3/lib/python3.11/site-packages/sklearn/svm/_base.py:305: ConvergenceWarning: Solver terminated early (max_iter=1000).  Consider pre-processing your data with StandardScaler or MinMaxScaler.\n",
      "  warnings.warn(\n",
      "/opt/anaconda3/lib/python3.11/site-packages/sklearn/svm/_base.py:305: ConvergenceWarning: Solver terminated early (max_iter=1000).  Consider pre-processing your data with StandardScaler or MinMaxScaler.\n",
      "  warnings.warn(\n",
      "/opt/anaconda3/lib/python3.11/site-packages/sklearn/svm/_base.py:305: ConvergenceWarning: Solver terminated early (max_iter=1000).  Consider pre-processing your data with StandardScaler or MinMaxScaler.\n",
      "  warnings.warn(\n",
      "/opt/anaconda3/lib/python3.11/site-packages/sklearn/svm/_base.py:305: ConvergenceWarning: Solver terminated early (max_iter=1000).  Consider pre-processing your data with StandardScaler or MinMaxScaler.\n",
      "  warnings.warn(\n",
      "/opt/anaconda3/lib/python3.11/site-packages/sklearn/svm/_base.py:305: ConvergenceWarning: Solver terminated early (max_iter=1000).  Consider pre-processing your data with StandardScaler or MinMaxScaler.\n",
      "  warnings.warn(\n",
      "/opt/anaconda3/lib/python3.11/site-packages/sklearn/svm/_base.py:305: ConvergenceWarning: Solver terminated early (max_iter=1000).  Consider pre-processing your data with StandardScaler or MinMaxScaler.\n",
      "  warnings.warn(\n",
      "/opt/anaconda3/lib/python3.11/site-packages/sklearn/svm/_base.py:305: ConvergenceWarning: Solver terminated early (max_iter=1000).  Consider pre-processing your data with StandardScaler or MinMaxScaler.\n",
      "  warnings.warn(\n",
      "/opt/anaconda3/lib/python3.11/site-packages/sklearn/svm/_base.py:305: ConvergenceWarning: Solver terminated early (max_iter=1000).  Consider pre-processing your data with StandardScaler or MinMaxScaler.\n",
      "  warnings.warn(\n",
      "/opt/anaconda3/lib/python3.11/site-packages/sklearn/model_selection/_validation.py:528: FitFailedWarning: \n",
      "8 fits failed out of a total of 10.\n",
      "The score on these train-test partitions for these parameters will be set to nan.\n",
      "If these failures are not expected, you can try to debug them by setting error_score='raise'.\n",
      "\n",
      "Below are more details about the failures:\n",
      "--------------------------------------------------------------------------------\n",
      "8 fits failed with the following error:\n",
      "Traceback (most recent call last):\n",
      "  File \"/opt/anaconda3/lib/python3.11/site-packages/sklearn/model_selection/_validation.py\", line 866, in _fit_and_score\n",
      "    estimator.fit(X_train, y_train, **fit_params)\n",
      "  File \"/opt/anaconda3/lib/python3.11/site-packages/sklearn/base.py\", line 1389, in wrapper\n",
      "    return fit_method(estimator, *args, **kwargs)\n",
      "           ^^^^^^^^^^^^^^^^^^^^^^^^^^^^^^^^^^^^^^\n",
      "  File \"/opt/anaconda3/lib/python3.11/site-packages/sklearn/svm/_base.py\", line 276, in fit\n",
      "    raise ValueError(\n",
      "ValueError: The dual coefficients or intercepts are not finite. The input data may contain large values and need to be preprocessed.\n",
      "\n",
      "  warnings.warn(some_fits_failed_message, FitFailedWarning)\n",
      "/opt/anaconda3/lib/python3.11/site-packages/sklearn/svm/_base.py:305: ConvergenceWarning: Solver terminated early (max_iter=1000).  Consider pre-processing your data with StandardScaler or MinMaxScaler.\n",
      "  warnings.warn(\n",
      "/opt/anaconda3/lib/python3.11/site-packages/sklearn/svm/_base.py:305: ConvergenceWarning: Solver terminated early (max_iter=1000).  Consider pre-processing your data with StandardScaler or MinMaxScaler.\n",
      "  warnings.warn(\n"
     ]
    },
    {
     "name": "stdout",
     "output_type": "stream",
     "text": [
      "gamma=0.001, poly_degree=5, Mean accuracy = nan, Std = nan\n"
     ]
    },
    {
     "name": "stderr",
     "output_type": "stream",
     "text": [
      "/opt/anaconda3/lib/python3.11/site-packages/sklearn/svm/_base.py:305: ConvergenceWarning: Solver terminated early (max_iter=1000).  Consider pre-processing your data with StandardScaler or MinMaxScaler.\n",
      "  warnings.warn(\n",
      "/opt/anaconda3/lib/python3.11/site-packages/sklearn/svm/_base.py:305: ConvergenceWarning: Solver terminated early (max_iter=1000).  Consider pre-processing your data with StandardScaler or MinMaxScaler.\n",
      "  warnings.warn(\n",
      "/opt/anaconda3/lib/python3.11/site-packages/sklearn/svm/_base.py:305: ConvergenceWarning: Solver terminated early (max_iter=1000).  Consider pre-processing your data with StandardScaler or MinMaxScaler.\n",
      "  warnings.warn(\n",
      "/opt/anaconda3/lib/python3.11/site-packages/sklearn/svm/_base.py:305: ConvergenceWarning: Solver terminated early (max_iter=1000).  Consider pre-processing your data with StandardScaler or MinMaxScaler.\n",
      "  warnings.warn(\n",
      "/opt/anaconda3/lib/python3.11/site-packages/sklearn/svm/_base.py:305: ConvergenceWarning: Solver terminated early (max_iter=1000).  Consider pre-processing your data with StandardScaler or MinMaxScaler.\n",
      "  warnings.warn(\n",
      "/opt/anaconda3/lib/python3.11/site-packages/sklearn/svm/_base.py:305: ConvergenceWarning: Solver terminated early (max_iter=1000).  Consider pre-processing your data with StandardScaler or MinMaxScaler.\n",
      "  warnings.warn(\n",
      "/opt/anaconda3/lib/python3.11/site-packages/sklearn/svm/_base.py:305: ConvergenceWarning: Solver terminated early (max_iter=1000).  Consider pre-processing your data with StandardScaler or MinMaxScaler.\n",
      "  warnings.warn(\n",
      "/opt/anaconda3/lib/python3.11/site-packages/sklearn/svm/_base.py:305: ConvergenceWarning: Solver terminated early (max_iter=1000).  Consider pre-processing your data with StandardScaler or MinMaxScaler.\n",
      "  warnings.warn(\n"
     ]
    },
    {
     "name": "stdout",
     "output_type": "stream",
     "text": [
      "gamma=0.01, poly_degree=2, Mean accuracy = 0.5013, Std = 0.2081\n"
     ]
    },
    {
     "name": "stderr",
     "output_type": "stream",
     "text": [
      "/opt/anaconda3/lib/python3.11/site-packages/sklearn/svm/_base.py:305: ConvergenceWarning: Solver terminated early (max_iter=1000).  Consider pre-processing your data with StandardScaler or MinMaxScaler.\n",
      "  warnings.warn(\n",
      "/opt/anaconda3/lib/python3.11/site-packages/sklearn/svm/_base.py:305: ConvergenceWarning: Solver terminated early (max_iter=1000).  Consider pre-processing your data with StandardScaler or MinMaxScaler.\n",
      "  warnings.warn(\n",
      "/opt/anaconda3/lib/python3.11/site-packages/sklearn/svm/_base.py:305: ConvergenceWarning: Solver terminated early (max_iter=1000).  Consider pre-processing your data with StandardScaler or MinMaxScaler.\n",
      "  warnings.warn(\n",
      "/opt/anaconda3/lib/python3.11/site-packages/sklearn/svm/_base.py:305: ConvergenceWarning: Solver terminated early (max_iter=1000).  Consider pre-processing your data with StandardScaler or MinMaxScaler.\n",
      "  warnings.warn(\n",
      "/opt/anaconda3/lib/python3.11/site-packages/sklearn/svm/_base.py:305: ConvergenceWarning: Solver terminated early (max_iter=1000).  Consider pre-processing your data with StandardScaler or MinMaxScaler.\n",
      "  warnings.warn(\n",
      "/opt/anaconda3/lib/python3.11/site-packages/sklearn/svm/_base.py:305: ConvergenceWarning: Solver terminated early (max_iter=1000).  Consider pre-processing your data with StandardScaler or MinMaxScaler.\n",
      "  warnings.warn(\n",
      "/opt/anaconda3/lib/python3.11/site-packages/sklearn/svm/_base.py:305: ConvergenceWarning: Solver terminated early (max_iter=1000).  Consider pre-processing your data with StandardScaler or MinMaxScaler.\n",
      "  warnings.warn(\n",
      "/opt/anaconda3/lib/python3.11/site-packages/sklearn/svm/_base.py:305: ConvergenceWarning: Solver terminated early (max_iter=1000).  Consider pre-processing your data with StandardScaler or MinMaxScaler.\n",
      "  warnings.warn(\n",
      "/opt/anaconda3/lib/python3.11/site-packages/sklearn/svm/_base.py:305: ConvergenceWarning: Solver terminated early (max_iter=1000).  Consider pre-processing your data with StandardScaler or MinMaxScaler.\n",
      "  warnings.warn(\n",
      "/opt/anaconda3/lib/python3.11/site-packages/sklearn/svm/_base.py:305: ConvergenceWarning: Solver terminated early (max_iter=1000).  Consider pre-processing your data with StandardScaler or MinMaxScaler.\n",
      "  warnings.warn(\n"
     ]
    },
    {
     "name": "stdout",
     "output_type": "stream",
     "text": [
      "gamma=0.01, poly_degree=4, Mean accuracy = 0.5283, Std = 0.0391\n"
     ]
    },
    {
     "name": "stderr",
     "output_type": "stream",
     "text": [
      "/opt/anaconda3/lib/python3.11/site-packages/sklearn/svm/_base.py:305: ConvergenceWarning: Solver terminated early (max_iter=1000).  Consider pre-processing your data with StandardScaler or MinMaxScaler.\n",
      "  warnings.warn(\n",
      "/opt/anaconda3/lib/python3.11/site-packages/sklearn/svm/_base.py:305: ConvergenceWarning: Solver terminated early (max_iter=1000).  Consider pre-processing your data with StandardScaler or MinMaxScaler.\n",
      "  warnings.warn(\n",
      "/opt/anaconda3/lib/python3.11/site-packages/sklearn/svm/_base.py:305: ConvergenceWarning: Solver terminated early (max_iter=1000).  Consider pre-processing your data with StandardScaler or MinMaxScaler.\n",
      "  warnings.warn(\n",
      "/opt/anaconda3/lib/python3.11/site-packages/sklearn/svm/_base.py:305: ConvergenceWarning: Solver terminated early (max_iter=1000).  Consider pre-processing your data with StandardScaler or MinMaxScaler.\n",
      "  warnings.warn(\n",
      "/opt/anaconda3/lib/python3.11/site-packages/sklearn/svm/_base.py:305: ConvergenceWarning: Solver terminated early (max_iter=1000).  Consider pre-processing your data with StandardScaler or MinMaxScaler.\n",
      "  warnings.warn(\n",
      "/opt/anaconda3/lib/python3.11/site-packages/sklearn/svm/_base.py:305: ConvergenceWarning: Solver terminated early (max_iter=1000).  Consider pre-processing your data with StandardScaler or MinMaxScaler.\n",
      "  warnings.warn(\n",
      "/opt/anaconda3/lib/python3.11/site-packages/sklearn/svm/_base.py:305: ConvergenceWarning: Solver terminated early (max_iter=1000).  Consider pre-processing your data with StandardScaler or MinMaxScaler.\n",
      "  warnings.warn(\n",
      "/opt/anaconda3/lib/python3.11/site-packages/sklearn/svm/_base.py:305: ConvergenceWarning: Solver terminated early (max_iter=1000).  Consider pre-processing your data with StandardScaler or MinMaxScaler.\n",
      "  warnings.warn(\n",
      "/opt/anaconda3/lib/python3.11/site-packages/sklearn/svm/_base.py:305: ConvergenceWarning: Solver terminated early (max_iter=1000).  Consider pre-processing your data with StandardScaler or MinMaxScaler.\n",
      "  warnings.warn(\n",
      "/opt/anaconda3/lib/python3.11/site-packages/sklearn/svm/_base.py:305: ConvergenceWarning: Solver terminated early (max_iter=1000).  Consider pre-processing your data with StandardScaler or MinMaxScaler.\n",
      "  warnings.warn(\n",
      "/opt/anaconda3/lib/python3.11/site-packages/sklearn/model_selection/_validation.py:528: FitFailedWarning: \n",
      "9 fits failed out of a total of 10.\n",
      "The score on these train-test partitions for these parameters will be set to nan.\n",
      "If these failures are not expected, you can try to debug them by setting error_score='raise'.\n",
      "\n",
      "Below are more details about the failures:\n",
      "--------------------------------------------------------------------------------\n",
      "9 fits failed with the following error:\n",
      "Traceback (most recent call last):\n",
      "  File \"/opt/anaconda3/lib/python3.11/site-packages/sklearn/model_selection/_validation.py\", line 866, in _fit_and_score\n",
      "    estimator.fit(X_train, y_train, **fit_params)\n",
      "  File \"/opt/anaconda3/lib/python3.11/site-packages/sklearn/base.py\", line 1389, in wrapper\n",
      "    return fit_method(estimator, *args, **kwargs)\n",
      "           ^^^^^^^^^^^^^^^^^^^^^^^^^^^^^^^^^^^^^^\n",
      "  File \"/opt/anaconda3/lib/python3.11/site-packages/sklearn/svm/_base.py\", line 276, in fit\n",
      "    raise ValueError(\n",
      "ValueError: The dual coefficients or intercepts are not finite. The input data may contain large values and need to be preprocessed.\n",
      "\n",
      "  warnings.warn(some_fits_failed_message, FitFailedWarning)\n",
      "/opt/anaconda3/lib/python3.11/site-packages/sklearn/svm/_base.py:305: ConvergenceWarning: Solver terminated early (max_iter=1000).  Consider pre-processing your data with StandardScaler or MinMaxScaler.\n",
      "  warnings.warn(\n",
      "/opt/anaconda3/lib/python3.11/site-packages/sklearn/svm/_base.py:305: ConvergenceWarning: Solver terminated early (max_iter=1000).  Consider pre-processing your data with StandardScaler or MinMaxScaler.\n",
      "  warnings.warn(\n"
     ]
    },
    {
     "name": "stdout",
     "output_type": "stream",
     "text": [
      "gamma=0.01, poly_degree=5, Mean accuracy = nan, Std = nan\n"
     ]
    },
    {
     "name": "stderr",
     "output_type": "stream",
     "text": [
      "/opt/anaconda3/lib/python3.11/site-packages/sklearn/svm/_base.py:305: ConvergenceWarning: Solver terminated early (max_iter=1000).  Consider pre-processing your data with StandardScaler or MinMaxScaler.\n",
      "  warnings.warn(\n",
      "/opt/anaconda3/lib/python3.11/site-packages/sklearn/svm/_base.py:305: ConvergenceWarning: Solver terminated early (max_iter=1000).  Consider pre-processing your data with StandardScaler or MinMaxScaler.\n",
      "  warnings.warn(\n",
      "/opt/anaconda3/lib/python3.11/site-packages/sklearn/svm/_base.py:305: ConvergenceWarning: Solver terminated early (max_iter=1000).  Consider pre-processing your data with StandardScaler or MinMaxScaler.\n",
      "  warnings.warn(\n",
      "/opt/anaconda3/lib/python3.11/site-packages/sklearn/svm/_base.py:305: ConvergenceWarning: Solver terminated early (max_iter=1000).  Consider pre-processing your data with StandardScaler or MinMaxScaler.\n",
      "  warnings.warn(\n",
      "/opt/anaconda3/lib/python3.11/site-packages/sklearn/svm/_base.py:305: ConvergenceWarning: Solver terminated early (max_iter=1000).  Consider pre-processing your data with StandardScaler or MinMaxScaler.\n",
      "  warnings.warn(\n",
      "/opt/anaconda3/lib/python3.11/site-packages/sklearn/svm/_base.py:305: ConvergenceWarning: Solver terminated early (max_iter=1000).  Consider pre-processing your data with StandardScaler or MinMaxScaler.\n",
      "  warnings.warn(\n",
      "/opt/anaconda3/lib/python3.11/site-packages/sklearn/svm/_base.py:305: ConvergenceWarning: Solver terminated early (max_iter=1000).  Consider pre-processing your data with StandardScaler or MinMaxScaler.\n",
      "  warnings.warn(\n",
      "/opt/anaconda3/lib/python3.11/site-packages/sklearn/svm/_base.py:305: ConvergenceWarning: Solver terminated early (max_iter=1000).  Consider pre-processing your data with StandardScaler or MinMaxScaler.\n",
      "  warnings.warn(\n"
     ]
    },
    {
     "name": "stdout",
     "output_type": "stream",
     "text": [
      "gamma=1, poly_degree=2, Mean accuracy = 0.3348, Std = 0.1269\n"
     ]
    },
    {
     "name": "stderr",
     "output_type": "stream",
     "text": [
      "/opt/anaconda3/lib/python3.11/site-packages/sklearn/svm/_base.py:305: ConvergenceWarning: Solver terminated early (max_iter=1000).  Consider pre-processing your data with StandardScaler or MinMaxScaler.\n",
      "  warnings.warn(\n",
      "/opt/anaconda3/lib/python3.11/site-packages/sklearn/svm/_base.py:305: ConvergenceWarning: Solver terminated early (max_iter=1000).  Consider pre-processing your data with StandardScaler or MinMaxScaler.\n",
      "  warnings.warn(\n",
      "/opt/anaconda3/lib/python3.11/site-packages/sklearn/svm/_base.py:305: ConvergenceWarning: Solver terminated early (max_iter=1000).  Consider pre-processing your data with StandardScaler or MinMaxScaler.\n",
      "  warnings.warn(\n",
      "/opt/anaconda3/lib/python3.11/site-packages/sklearn/svm/_base.py:305: ConvergenceWarning: Solver terminated early (max_iter=1000).  Consider pre-processing your data with StandardScaler or MinMaxScaler.\n",
      "  warnings.warn(\n",
      "/opt/anaconda3/lib/python3.11/site-packages/sklearn/svm/_base.py:305: ConvergenceWarning: Solver terminated early (max_iter=1000).  Consider pre-processing your data with StandardScaler or MinMaxScaler.\n",
      "  warnings.warn(\n",
      "/opt/anaconda3/lib/python3.11/site-packages/sklearn/svm/_base.py:305: ConvergenceWarning: Solver terminated early (max_iter=1000).  Consider pre-processing your data with StandardScaler or MinMaxScaler.\n",
      "  warnings.warn(\n",
      "/opt/anaconda3/lib/python3.11/site-packages/sklearn/svm/_base.py:305: ConvergenceWarning: Solver terminated early (max_iter=1000).  Consider pre-processing your data with StandardScaler or MinMaxScaler.\n",
      "  warnings.warn(\n",
      "/opt/anaconda3/lib/python3.11/site-packages/sklearn/svm/_base.py:305: ConvergenceWarning: Solver terminated early (max_iter=1000).  Consider pre-processing your data with StandardScaler or MinMaxScaler.\n",
      "  warnings.warn(\n",
      "/opt/anaconda3/lib/python3.11/site-packages/sklearn/svm/_base.py:305: ConvergenceWarning: Solver terminated early (max_iter=1000).  Consider pre-processing your data with StandardScaler or MinMaxScaler.\n",
      "  warnings.warn(\n",
      "/opt/anaconda3/lib/python3.11/site-packages/sklearn/svm/_base.py:305: ConvergenceWarning: Solver terminated early (max_iter=1000).  Consider pre-processing your data with StandardScaler or MinMaxScaler.\n",
      "  warnings.warn(\n",
      "/opt/anaconda3/lib/python3.11/site-packages/sklearn/model_selection/_validation.py:528: FitFailedWarning: \n",
      "9 fits failed out of a total of 10.\n",
      "The score on these train-test partitions for these parameters will be set to nan.\n",
      "If these failures are not expected, you can try to debug them by setting error_score='raise'.\n",
      "\n",
      "Below are more details about the failures:\n",
      "--------------------------------------------------------------------------------\n",
      "9 fits failed with the following error:\n",
      "Traceback (most recent call last):\n",
      "  File \"/opt/anaconda3/lib/python3.11/site-packages/sklearn/model_selection/_validation.py\", line 866, in _fit_and_score\n",
      "    estimator.fit(X_train, y_train, **fit_params)\n",
      "  File \"/opt/anaconda3/lib/python3.11/site-packages/sklearn/base.py\", line 1389, in wrapper\n",
      "    return fit_method(estimator, *args, **kwargs)\n",
      "           ^^^^^^^^^^^^^^^^^^^^^^^^^^^^^^^^^^^^^^\n",
      "  File \"/opt/anaconda3/lib/python3.11/site-packages/sklearn/svm/_base.py\", line 276, in fit\n",
      "    raise ValueError(\n",
      "ValueError: The dual coefficients or intercepts are not finite. The input data may contain large values and need to be preprocessed.\n",
      "\n",
      "  warnings.warn(some_fits_failed_message, FitFailedWarning)\n"
     ]
    },
    {
     "name": "stdout",
     "output_type": "stream",
     "text": [
      "gamma=1, poly_degree=4, Mean accuracy = nan, Std = nan\n"
     ]
    },
    {
     "ename": "ValueError",
     "evalue": "\nAll the 10 fits failed.\nIt is very likely that your model is misconfigured.\nYou can try to debug the error by setting error_score='raise'.\n\nBelow are more details about the failures:\n--------------------------------------------------------------------------------\n10 fits failed with the following error:\nTraceback (most recent call last):\n  File \"/opt/anaconda3/lib/python3.11/site-packages/sklearn/model_selection/_validation.py\", line 866, in _fit_and_score\n    estimator.fit(X_train, y_train, **fit_params)\n  File \"/opt/anaconda3/lib/python3.11/site-packages/sklearn/base.py\", line 1389, in wrapper\n    return fit_method(estimator, *args, **kwargs)\n           ^^^^^^^^^^^^^^^^^^^^^^^^^^^^^^^^^^^^^^\n  File \"/opt/anaconda3/lib/python3.11/site-packages/sklearn/svm/_base.py\", line 276, in fit\n    raise ValueError(\nValueError: The dual coefficients or intercepts are not finite. The input data may contain large values and need to be preprocessed.\n",
     "output_type": "error",
     "traceback": [
      "\u001b[0;31m---------------------------------------------------------------------------\u001b[0m",
      "\u001b[0;31mValueError\u001b[0m                                Traceback (most recent call last)",
      "Cell \u001b[0;32mIn[18], line 8\u001b[0m\n\u001b[1;32m      6\u001b[0m \u001b[38;5;28;01mfor\u001b[39;00m degree \u001b[38;5;129;01min\u001b[39;00m poly_degrees:\n\u001b[1;32m      7\u001b[0m     model \u001b[38;5;241m=\u001b[39m SVC(kernel\u001b[38;5;241m=\u001b[39m\u001b[38;5;124m'\u001b[39m\u001b[38;5;124mpoly\u001b[39m\u001b[38;5;124m'\u001b[39m, C\u001b[38;5;241m=\u001b[39m\u001b[38;5;241m1\u001b[39m, gamma\u001b[38;5;241m=\u001b[39mgamma, degree\u001b[38;5;241m=\u001b[39mdegree,  random_state\u001b[38;5;241m=\u001b[39m\u001b[38;5;241m42\u001b[39m, max_iter\u001b[38;5;241m=\u001b[39m\u001b[38;5;241m1000\u001b[39m)\n\u001b[0;32m----> 8\u001b[0m     cv_results \u001b[38;5;241m=\u001b[39m cross_val_score(model, X, Y, cv\u001b[38;5;241m=\u001b[39mkfold, scoring\u001b[38;5;241m=\u001b[39m\u001b[38;5;124m'\u001b[39m\u001b[38;5;124maccuracy\u001b[39m\u001b[38;5;124m'\u001b[39m)\n\u001b[1;32m      9\u001b[0m     poly_gamma_degree_results\u001b[38;5;241m.\u001b[39mappend(cv_results)\n\u001b[1;32m     10\u001b[0m     \u001b[38;5;28mprint\u001b[39m(\u001b[38;5;124mf\u001b[39m\u001b[38;5;124m\"\u001b[39m\u001b[38;5;124mgamma=\u001b[39m\u001b[38;5;132;01m{\u001b[39;00mgamma\u001b[38;5;132;01m}\u001b[39;00m\u001b[38;5;124m, poly_degree=\u001b[39m\u001b[38;5;132;01m{\u001b[39;00mdegree\u001b[38;5;132;01m}\u001b[39;00m\u001b[38;5;124m, Mean accuracy = \u001b[39m\u001b[38;5;132;01m{\u001b[39;00mcv_results\u001b[38;5;241m.\u001b[39mmean()\u001b[38;5;132;01m:\u001b[39;00m\u001b[38;5;124m.4f\u001b[39m\u001b[38;5;132;01m}\u001b[39;00m\u001b[38;5;124m, Std = \u001b[39m\u001b[38;5;132;01m{\u001b[39;00mcv_results\u001b[38;5;241m.\u001b[39mstd()\u001b[38;5;132;01m:\u001b[39;00m\u001b[38;5;124m.4f\u001b[39m\u001b[38;5;132;01m}\u001b[39;00m\u001b[38;5;124m\"\u001b[39m)\n",
      "File \u001b[0;32m/opt/anaconda3/lib/python3.11/site-packages/sklearn/utils/_param_validation.py:216\u001b[0m, in \u001b[0;36mvalidate_params.<locals>.decorator.<locals>.wrapper\u001b[0;34m(*args, **kwargs)\u001b[0m\n\u001b[1;32m    210\u001b[0m \u001b[38;5;28;01mtry\u001b[39;00m:\n\u001b[1;32m    211\u001b[0m     \u001b[38;5;28;01mwith\u001b[39;00m config_context(\n\u001b[1;32m    212\u001b[0m         skip_parameter_validation\u001b[38;5;241m=\u001b[39m(\n\u001b[1;32m    213\u001b[0m             prefer_skip_nested_validation \u001b[38;5;129;01mor\u001b[39;00m global_skip_validation\n\u001b[1;32m    214\u001b[0m         )\n\u001b[1;32m    215\u001b[0m     ):\n\u001b[0;32m--> 216\u001b[0m         \u001b[38;5;28;01mreturn\u001b[39;00m func(\u001b[38;5;241m*\u001b[39margs, \u001b[38;5;241m*\u001b[39m\u001b[38;5;241m*\u001b[39mkwargs)\n\u001b[1;32m    217\u001b[0m \u001b[38;5;28;01mexcept\u001b[39;00m InvalidParameterError \u001b[38;5;28;01mas\u001b[39;00m e:\n\u001b[1;32m    218\u001b[0m     \u001b[38;5;66;03m# When the function is just a wrapper around an estimator, we allow\u001b[39;00m\n\u001b[1;32m    219\u001b[0m     \u001b[38;5;66;03m# the function to delegate validation to the estimator, but we replace\u001b[39;00m\n\u001b[1;32m    220\u001b[0m     \u001b[38;5;66;03m# the name of the estimator by the name of the function in the error\u001b[39;00m\n\u001b[1;32m    221\u001b[0m     \u001b[38;5;66;03m# message to avoid confusion.\u001b[39;00m\n\u001b[1;32m    222\u001b[0m     msg \u001b[38;5;241m=\u001b[39m re\u001b[38;5;241m.\u001b[39msub(\n\u001b[1;32m    223\u001b[0m         \u001b[38;5;124mr\u001b[39m\u001b[38;5;124m\"\u001b[39m\u001b[38;5;124mparameter of \u001b[39m\u001b[38;5;124m\\\u001b[39m\u001b[38;5;124mw+ must be\u001b[39m\u001b[38;5;124m\"\u001b[39m,\n\u001b[1;32m    224\u001b[0m         \u001b[38;5;124mf\u001b[39m\u001b[38;5;124m\"\u001b[39m\u001b[38;5;124mparameter of \u001b[39m\u001b[38;5;132;01m{\u001b[39;00mfunc\u001b[38;5;241m.\u001b[39m\u001b[38;5;18m__qualname__\u001b[39m\u001b[38;5;132;01m}\u001b[39;00m\u001b[38;5;124m must be\u001b[39m\u001b[38;5;124m\"\u001b[39m,\n\u001b[1;32m    225\u001b[0m         \u001b[38;5;28mstr\u001b[39m(e),\n\u001b[1;32m    226\u001b[0m     )\n",
      "File \u001b[0;32m/opt/anaconda3/lib/python3.11/site-packages/sklearn/model_selection/_validation.py:684\u001b[0m, in \u001b[0;36mcross_val_score\u001b[0;34m(estimator, X, y, groups, scoring, cv, n_jobs, verbose, params, pre_dispatch, error_score)\u001b[0m\n\u001b[1;32m    681\u001b[0m \u001b[38;5;66;03m# To ensure multimetric format is not supported\u001b[39;00m\n\u001b[1;32m    682\u001b[0m scorer \u001b[38;5;241m=\u001b[39m check_scoring(estimator, scoring\u001b[38;5;241m=\u001b[39mscoring)\n\u001b[0;32m--> 684\u001b[0m cv_results \u001b[38;5;241m=\u001b[39m cross_validate(\n\u001b[1;32m    685\u001b[0m     estimator\u001b[38;5;241m=\u001b[39mestimator,\n\u001b[1;32m    686\u001b[0m     X\u001b[38;5;241m=\u001b[39mX,\n\u001b[1;32m    687\u001b[0m     y\u001b[38;5;241m=\u001b[39my,\n\u001b[1;32m    688\u001b[0m     groups\u001b[38;5;241m=\u001b[39mgroups,\n\u001b[1;32m    689\u001b[0m     scoring\u001b[38;5;241m=\u001b[39m{\u001b[38;5;124m\"\u001b[39m\u001b[38;5;124mscore\u001b[39m\u001b[38;5;124m\"\u001b[39m: scorer},\n\u001b[1;32m    690\u001b[0m     cv\u001b[38;5;241m=\u001b[39mcv,\n\u001b[1;32m    691\u001b[0m     n_jobs\u001b[38;5;241m=\u001b[39mn_jobs,\n\u001b[1;32m    692\u001b[0m     verbose\u001b[38;5;241m=\u001b[39mverbose,\n\u001b[1;32m    693\u001b[0m     params\u001b[38;5;241m=\u001b[39mparams,\n\u001b[1;32m    694\u001b[0m     pre_dispatch\u001b[38;5;241m=\u001b[39mpre_dispatch,\n\u001b[1;32m    695\u001b[0m     error_score\u001b[38;5;241m=\u001b[39merror_score,\n\u001b[1;32m    696\u001b[0m )\n\u001b[1;32m    697\u001b[0m \u001b[38;5;28;01mreturn\u001b[39;00m cv_results[\u001b[38;5;124m\"\u001b[39m\u001b[38;5;124mtest_score\u001b[39m\u001b[38;5;124m\"\u001b[39m]\n",
      "File \u001b[0;32m/opt/anaconda3/lib/python3.11/site-packages/sklearn/utils/_param_validation.py:216\u001b[0m, in \u001b[0;36mvalidate_params.<locals>.decorator.<locals>.wrapper\u001b[0;34m(*args, **kwargs)\u001b[0m\n\u001b[1;32m    210\u001b[0m \u001b[38;5;28;01mtry\u001b[39;00m:\n\u001b[1;32m    211\u001b[0m     \u001b[38;5;28;01mwith\u001b[39;00m config_context(\n\u001b[1;32m    212\u001b[0m         skip_parameter_validation\u001b[38;5;241m=\u001b[39m(\n\u001b[1;32m    213\u001b[0m             prefer_skip_nested_validation \u001b[38;5;129;01mor\u001b[39;00m global_skip_validation\n\u001b[1;32m    214\u001b[0m         )\n\u001b[1;32m    215\u001b[0m     ):\n\u001b[0;32m--> 216\u001b[0m         \u001b[38;5;28;01mreturn\u001b[39;00m func(\u001b[38;5;241m*\u001b[39margs, \u001b[38;5;241m*\u001b[39m\u001b[38;5;241m*\u001b[39mkwargs)\n\u001b[1;32m    217\u001b[0m \u001b[38;5;28;01mexcept\u001b[39;00m InvalidParameterError \u001b[38;5;28;01mas\u001b[39;00m e:\n\u001b[1;32m    218\u001b[0m     \u001b[38;5;66;03m# When the function is just a wrapper around an estimator, we allow\u001b[39;00m\n\u001b[1;32m    219\u001b[0m     \u001b[38;5;66;03m# the function to delegate validation to the estimator, but we replace\u001b[39;00m\n\u001b[1;32m    220\u001b[0m     \u001b[38;5;66;03m# the name of the estimator by the name of the function in the error\u001b[39;00m\n\u001b[1;32m    221\u001b[0m     \u001b[38;5;66;03m# message to avoid confusion.\u001b[39;00m\n\u001b[1;32m    222\u001b[0m     msg \u001b[38;5;241m=\u001b[39m re\u001b[38;5;241m.\u001b[39msub(\n\u001b[1;32m    223\u001b[0m         \u001b[38;5;124mr\u001b[39m\u001b[38;5;124m\"\u001b[39m\u001b[38;5;124mparameter of \u001b[39m\u001b[38;5;124m\\\u001b[39m\u001b[38;5;124mw+ must be\u001b[39m\u001b[38;5;124m\"\u001b[39m,\n\u001b[1;32m    224\u001b[0m         \u001b[38;5;124mf\u001b[39m\u001b[38;5;124m\"\u001b[39m\u001b[38;5;124mparameter of \u001b[39m\u001b[38;5;132;01m{\u001b[39;00mfunc\u001b[38;5;241m.\u001b[39m\u001b[38;5;18m__qualname__\u001b[39m\u001b[38;5;132;01m}\u001b[39;00m\u001b[38;5;124m must be\u001b[39m\u001b[38;5;124m\"\u001b[39m,\n\u001b[1;32m    225\u001b[0m         \u001b[38;5;28mstr\u001b[39m(e),\n\u001b[1;32m    226\u001b[0m     )\n",
      "File \u001b[0;32m/opt/anaconda3/lib/python3.11/site-packages/sklearn/model_selection/_validation.py:431\u001b[0m, in \u001b[0;36mcross_validate\u001b[0;34m(estimator, X, y, groups, scoring, cv, n_jobs, verbose, params, pre_dispatch, return_train_score, return_estimator, return_indices, error_score)\u001b[0m\n\u001b[1;32m    410\u001b[0m parallel \u001b[38;5;241m=\u001b[39m Parallel(n_jobs\u001b[38;5;241m=\u001b[39mn_jobs, verbose\u001b[38;5;241m=\u001b[39mverbose, pre_dispatch\u001b[38;5;241m=\u001b[39mpre_dispatch)\n\u001b[1;32m    411\u001b[0m results \u001b[38;5;241m=\u001b[39m parallel(\n\u001b[1;32m    412\u001b[0m     delayed(_fit_and_score)(\n\u001b[1;32m    413\u001b[0m         clone(estimator),\n\u001b[0;32m   (...)\u001b[0m\n\u001b[1;32m    428\u001b[0m     \u001b[38;5;28;01mfor\u001b[39;00m train, test \u001b[38;5;129;01min\u001b[39;00m indices\n\u001b[1;32m    429\u001b[0m )\n\u001b[0;32m--> 431\u001b[0m _warn_or_raise_about_fit_failures(results, error_score)\n\u001b[1;32m    433\u001b[0m \u001b[38;5;66;03m# For callable scoring, the return type is only know after calling. If the\u001b[39;00m\n\u001b[1;32m    434\u001b[0m \u001b[38;5;66;03m# return type is a dictionary, the error scores can now be inserted with\u001b[39;00m\n\u001b[1;32m    435\u001b[0m \u001b[38;5;66;03m# the correct key.\u001b[39;00m\n\u001b[1;32m    436\u001b[0m \u001b[38;5;28;01mif\u001b[39;00m \u001b[38;5;28mcallable\u001b[39m(scoring):\n",
      "File \u001b[0;32m/opt/anaconda3/lib/python3.11/site-packages/sklearn/model_selection/_validation.py:517\u001b[0m, in \u001b[0;36m_warn_or_raise_about_fit_failures\u001b[0;34m(results, error_score)\u001b[0m\n\u001b[1;32m    510\u001b[0m \u001b[38;5;28;01mif\u001b[39;00m num_failed_fits \u001b[38;5;241m==\u001b[39m num_fits:\n\u001b[1;32m    511\u001b[0m     all_fits_failed_message \u001b[38;5;241m=\u001b[39m (\n\u001b[1;32m    512\u001b[0m         \u001b[38;5;124mf\u001b[39m\u001b[38;5;124m\"\u001b[39m\u001b[38;5;130;01m\\n\u001b[39;00m\u001b[38;5;124mAll the \u001b[39m\u001b[38;5;132;01m{\u001b[39;00mnum_fits\u001b[38;5;132;01m}\u001b[39;00m\u001b[38;5;124m fits failed.\u001b[39m\u001b[38;5;130;01m\\n\u001b[39;00m\u001b[38;5;124m\"\u001b[39m\n\u001b[1;32m    513\u001b[0m         \u001b[38;5;124m\"\u001b[39m\u001b[38;5;124mIt is very likely that your model is misconfigured.\u001b[39m\u001b[38;5;130;01m\\n\u001b[39;00m\u001b[38;5;124m\"\u001b[39m\n\u001b[1;32m    514\u001b[0m         \u001b[38;5;124m\"\u001b[39m\u001b[38;5;124mYou can try to debug the error by setting error_score=\u001b[39m\u001b[38;5;124m'\u001b[39m\u001b[38;5;124mraise\u001b[39m\u001b[38;5;124m'\u001b[39m\u001b[38;5;124m.\u001b[39m\u001b[38;5;130;01m\\n\u001b[39;00m\u001b[38;5;130;01m\\n\u001b[39;00m\u001b[38;5;124m\"\u001b[39m\n\u001b[1;32m    515\u001b[0m         \u001b[38;5;124mf\u001b[39m\u001b[38;5;124m\"\u001b[39m\u001b[38;5;124mBelow are more details about the failures:\u001b[39m\u001b[38;5;130;01m\\n\u001b[39;00m\u001b[38;5;132;01m{\u001b[39;00mfit_errors_summary\u001b[38;5;132;01m}\u001b[39;00m\u001b[38;5;124m\"\u001b[39m\n\u001b[1;32m    516\u001b[0m     )\n\u001b[0;32m--> 517\u001b[0m     \u001b[38;5;28;01mraise\u001b[39;00m \u001b[38;5;167;01mValueError\u001b[39;00m(all_fits_failed_message)\n\u001b[1;32m    519\u001b[0m \u001b[38;5;28;01melse\u001b[39;00m:\n\u001b[1;32m    520\u001b[0m     some_fits_failed_message \u001b[38;5;241m=\u001b[39m (\n\u001b[1;32m    521\u001b[0m         \u001b[38;5;124mf\u001b[39m\u001b[38;5;124m\"\u001b[39m\u001b[38;5;130;01m\\n\u001b[39;00m\u001b[38;5;132;01m{\u001b[39;00mnum_failed_fits\u001b[38;5;132;01m}\u001b[39;00m\u001b[38;5;124m fits failed out of a total of \u001b[39m\u001b[38;5;132;01m{\u001b[39;00mnum_fits\u001b[38;5;132;01m}\u001b[39;00m\u001b[38;5;124m.\u001b[39m\u001b[38;5;130;01m\\n\u001b[39;00m\u001b[38;5;124m\"\u001b[39m\n\u001b[1;32m    522\u001b[0m         \u001b[38;5;124m\"\u001b[39m\u001b[38;5;124mThe score on these train-test partitions for these parameters\u001b[39m\u001b[38;5;124m\"\u001b[39m\n\u001b[0;32m   (...)\u001b[0m\n\u001b[1;32m    526\u001b[0m         \u001b[38;5;124mf\u001b[39m\u001b[38;5;124m\"\u001b[39m\u001b[38;5;124mBelow are more details about the failures:\u001b[39m\u001b[38;5;130;01m\\n\u001b[39;00m\u001b[38;5;132;01m{\u001b[39;00mfit_errors_summary\u001b[38;5;132;01m}\u001b[39;00m\u001b[38;5;124m\"\u001b[39m\n\u001b[1;32m    527\u001b[0m     )\n",
      "\u001b[0;31mValueError\u001b[0m: \nAll the 10 fits failed.\nIt is very likely that your model is misconfigured.\nYou can try to debug the error by setting error_score='raise'.\n\nBelow are more details about the failures:\n--------------------------------------------------------------------------------\n10 fits failed with the following error:\nTraceback (most recent call last):\n  File \"/opt/anaconda3/lib/python3.11/site-packages/sklearn/model_selection/_validation.py\", line 866, in _fit_and_score\n    estimator.fit(X_train, y_train, **fit_params)\n  File \"/opt/anaconda3/lib/python3.11/site-packages/sklearn/base.py\", line 1389, in wrapper\n    return fit_method(estimator, *args, **kwargs)\n           ^^^^^^^^^^^^^^^^^^^^^^^^^^^^^^^^^^^^^^\n  File \"/opt/anaconda3/lib/python3.11/site-packages/sklearn/svm/_base.py\", line 276, in fit\n    raise ValueError(\nValueError: The dual coefficients or intercepts are not finite. The input data may contain large values and need to be preprocessed.\n"
     ]
    }
   ],
   "source": [
    "gamma_values = [0.0001, 0.001, 0.01, 1, 10, 100, 1000]\n",
    "poly_degrees = [2, 4, 5]\n",
    "poly_gamma_degree_results = []\n",
    "\n",
    "from sklearn.preprocessing import StandardScaler\n",
    "\n",
    "scaler_X = StandardScaler()\n",
    "X_scaled = scaler_X.fit_transform(X)\n",
    "\n",
    "\n",
    "    \n",
    "for gamma in gamma_values:\n",
    "    for degree in poly_degrees:\n",
    "        model = SVC(kernel='poly', C=1, gamma=gamma, degree=degree,  random_state=42, max_iter=1000)\n",
    "        cv_results = cross_val_score(model, X, Y, cv=kfold, scoring='accuracy')\n",
    "        poly_gamma_degree_results.append(cv_results)\n",
    "        print(f\"gamma={gamma}, poly_degree={degree}, Mean accuracy = {cv_results.mean():.4f}, Std = {cv_results.std():.4f}\")"
   ]
  }
 ],
 "metadata": {
  "kernelspec": {
   "display_name": "base",
   "language": "python",
   "name": "python3"
  },
  "language_info": {
   "codemirror_mode": {
    "name": "ipython",
    "version": 3
   },
   "file_extension": ".py",
   "mimetype": "text/x-python",
   "name": "python",
   "nbconvert_exporter": "python",
   "pygments_lexer": "ipython3",
   "version": "3.11.7"
  }
 },
 "nbformat": 4,
 "nbformat_minor": 5
}
