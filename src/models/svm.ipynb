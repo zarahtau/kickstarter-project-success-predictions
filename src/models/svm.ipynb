{
 "cells": [
  {
   "cell_type": "code",
   "execution_count": 16,
   "id": "a9a4f739",
   "metadata": {},
   "outputs": [],
   "source": [
    "import pandas as pd\n",
    "import matplotlib.pyplot as plt\n",
    "from sklearn import svm\n",
    "from sklearn.svm import SVC\n",
    "from sklearn.svm import NuSVC\n",
    "from sklearn.model_selection import KFold\n",
    "from sklearn.model_selection import cross_val_score"
   ]
  },
  {
   "cell_type": "markdown",
   "id": "9dedba23",
   "metadata": {},
   "source": [
    "<h2>SVM Analysis</h2>\n",
    "This classifier separates data points using a hyperplane with the largest amount of margin. This model finds an optimal hyperplane which can help in classifying new data points. It is often used for classification problems which satisfies our binary classification use case. \n",
    "\n",
    "The goal of SVM is to find a maximum marginal hyperplane that best divides the dataset into classes. Support vectors are the data points closest to the hyperplane. \n",
    "\n",
    "<strong>How does SVM work?</strong>\n",
    "\n",
    "[1] Generate hyperplanes which separates the classes in the best way. \n",
    "[2] Select the right hyperplane with maximum separation from the nearest points that define the boundary. Given non-linear and inseparable planes, kernal tricks can be used to transform the input space to a higher dimensional space.\n",
    "\n",
    "<strong>Scikit Learn Tuning Parameters</strong>\n",
    "\n",
    "[1] From the EDA, it was difficult to see any prominent relationships between the outputs and inputs. For that reason, we test SVC and NuSVC SVM's disregarding LinearSVC. SVC and NuSVC simply vary in their mathematical formulations.\n",
    "\n",
    "[2] Kernel: Specifies the kernel type to be used in the algorithm. Some possible values are linear, poly, rbf, sigmoid, or precomputed.\n",
    "\n",
    "[3] C: The strength of regularization => for SVC \n",
    "\n",
    "[4] Degree of the polynomial\n",
    "\n",
    "[5] class_weight: Given that we have many positive and few negative, balancing the class weight might be something of interest.\n",
    "\n",
    "[6] gamma (scale or auto): Useful for non-linear kernal like RBF. This defines the behavior of the decision boundary.\n",
    "\n",
    "Sources:\n",
    "https://scikit-learn.org/stable/modules/svm.html\n",
    "\n",
    "https://www.datacamp.com/tutorial/svm-classification-scikit-learn-python"
   ]
  },
  {
   "cell_type": "markdown",
   "id": "0e98e3e6",
   "metadata": {},
   "source": [
    "<strong>Defining ROC and AUC Score Function</strong>"
   ]
  },
  {
   "cell_type": "code",
   "execution_count": 17,
   "id": "5c0029d3",
   "metadata": {},
   "outputs": [],
   "source": [
    "from sklearn.metrics import roc_curve, auc\n",
    "\n",
    "def predictive_probability_results(y_true, y_prob, label=\"Model\", title=\"ROC Curve\"):\n",
    "    # Compute ROC curve and AUC score\n",
    "    fpr, tpr, _ = roc_curve(y_true, y_prob)\n",
    "    roc_auc = auc(fpr, tpr)\n",
    "    \n",
    "    # Plot\n",
    "    plt.figure(figsize=(8, 6))\n",
    "    plt.plot(fpr, tpr, label=f\"{label} (AUC = {roc_auc:.4f})\")\n",
    "    plt.plot([0, 1], [0, 1], 'k--', label=\"Random Classifier\")\n",
    "    plt.xlabel('False Positive Rate')\n",
    "    plt.ylabel('True Positive Rate')\n",
    "    plt.title(title)\n",
    "    plt.legend(loc='lower right')\n",
    "    plt.grid(True)\n",
    "    plt.tight_layout()\n",
    "    plt.show()"
   ]
  },
  {
   "cell_type": "code",
   "execution_count": 18,
   "id": "165e8f9b",
   "metadata": {},
   "outputs": [
    {
     "name": "stdout",
     "output_type": "stream",
     "text": [
      "Index(['name', 'blurb', 'goal', 'disable_communication', 'country', 'currency',\n",
      "       'deadline', 'state_changed_at', 'created_at', 'launched_at',\n",
      "       'staff_pick', 'backers_count', 'static_usd_rate', 'usd_pledged',\n",
      "       'category', 'spotlight', 'name_len_clean', 'blurb_len_clean',\n",
      "       'deadline_month', 'deadline_day', 'deadline_hr', 'created_at_month',\n",
      "       'created_at_day', 'created_at_hr', 'launched_at_month',\n",
      "       'launched_at_day', 'launched_at_yr', 'launched_at_hr',\n",
      "       'create_to_launch_days', 'launch_to_deadline_days',\n",
      "       'launch_to_state_change_days', 'SuccessfulBool', 'TOPCOUNTRY',\n",
      "       'LaunchedTuesday', 'DeadlineWeekend', 'app', 'help', 'new', 'world',\n",
      "       'canceled', 'country_grouped_CA', 'country_grouped_GB',\n",
      "       'country_grouped_Other', 'country_grouped_US', 'currency_grouped_CAD',\n",
      "       'currency_grouped_EUR', 'currency_grouped_GBP',\n",
      "       'currency_grouped_Other', 'currency_grouped_USD',\n",
      "       'deadline_weekday_Friday', 'deadline_weekday_Monday',\n",
      "       'deadline_weekday_Saturday', 'deadline_weekday_Sunday',\n",
      "       'deadline_weekday_Thursday', 'deadline_weekday_Tuesday',\n",
      "       'deadline_weekday_Wednesday', 'state_changed_at_weekday_Friday',\n",
      "       'state_changed_at_weekday_Monday', 'state_changed_at_weekday_Saturday',\n",
      "       'state_changed_at_weekday_Sunday', 'state_changed_at_weekday_Thursday',\n",
      "       'state_changed_at_weekday_Tuesday',\n",
      "       'state_changed_at_weekday_Wednesday', 'created_at_weekday_Friday',\n",
      "       'created_at_weekday_Monday', 'created_at_weekday_Saturday',\n",
      "       'created_at_weekday_Sunday', 'created_at_weekday_Thursday',\n",
      "       'created_at_weekday_Tuesday', 'created_at_weekday_Wednesday',\n",
      "       'launched_at_weekday_Friday', 'launched_at_weekday_Monday',\n",
      "       'launched_at_weekday_Saturday', 'launched_at_weekday_Sunday',\n",
      "       'launched_at_weekday_Thursday', 'launched_at_weekday_Tuesday',\n",
      "       'launched_at_weekday_Wednesday', 'category_grouped_Apps',\n",
      "       'category_grouped_Gadgets', 'category_grouped_Hardware',\n",
      "       'category_grouped_Musical', 'category_grouped_Other',\n",
      "       'category_grouped_Plays', 'category_grouped_Software',\n",
      "       'category_grouped_Sound', 'category_grouped_Wearables',\n",
      "       'category_grouped_Web'],\n",
      "      dtype='object')\n"
     ]
    }
   ],
   "source": [
    "filename = '/kickstarter_one_hot_cleaned.csv'\n",
    "filepath = '/Users/zarahtaufique/Desktop/SJSU/Year4Semester2/CMPE188/kickstarter-project-success-predictions/data'\n",
    "pd.set_option('display.max_columns', None)\n",
    "\n",
    "full_kickstarter_df = pd.read_csv(filepath+filename, low_memory=False)\n",
    "print(full_kickstarter_df.columns)"
   ]
  },
  {
   "cell_type": "code",
   "execution_count": 19,
   "id": "234fa631",
   "metadata": {},
   "outputs": [
    {
     "name": "stdout",
     "output_type": "stream",
     "text": [
      "       goal  disable_communication  staff_pick  backers_count  \\\n",
      "0    1500.0                      0           0              0   \n",
      "1     500.0                      0           0              0   \n",
      "2  100000.0                      0           0              5   \n",
      "3    5000.0                      0           0              0   \n",
      "4    3222.0                      0           0             17   \n",
      "\n",
      "   static_usd_rate  usd_pledged  name_len_clean  blurb_len_clean  \\\n",
      "0         1.000000     0.000000               9               16   \n",
      "1         1.000000     0.000000               4               15   \n",
      "2         1.000000   120.000000               8               10   \n",
      "3         1.000000     0.000000               6               13   \n",
      "4         1.114613   396.802395               7               18   \n",
      "\n",
      "   deadline_month  deadline_day  deadline_hr  created_at_month  \\\n",
      "0               1            23           10                11   \n",
      "1               5             1           16                 2   \n",
      "2               3            26            8                 1   \n",
      "3              10             6            0                 9   \n",
      "4               6            27           12                 5   \n",
      "\n",
      "   created_at_day  created_at_hr  launched_at_month  launched_at_day  \\\n",
      "0              29             22                 12               17   \n",
      "1              20              9                  3                2   \n",
      "2              24              0                  1               25   \n",
      "3               5             22                  9                6   \n",
      "4              25             14                  5               26   \n",
      "\n",
      "   launched_at_yr  launched_at_hr  create_to_launch_days  \\\n",
      "0            2014              13              17.619201   \n",
      "1            2015              16              10.281007   \n",
      "2            2015               8               1.339560   \n",
      "3            2014               0               0.091169   \n",
      "4            2016               5               0.658079   \n",
      "\n",
      "   launch_to_deadline_days  launch_to_state_change_days  SuccessfulBool  \\\n",
      "0                36.866250                    36.866250               0   \n",
      "1                60.000000                    60.000023               0   \n",
      "2                60.000000                    60.000012               0   \n",
      "3                30.000000                    30.000000               0   \n",
      "4                32.251771                    32.251771               0   \n",
      "\n",
      "   TOPCOUNTRY  LaunchedTuesday  DeadlineWeekend  app  help       new  \\\n",
      "0           1                0                0  0.0   0.0  0.000000   \n",
      "1           1                0                0  0.0   0.0  0.000000   \n",
      "2           1                0                0  0.0   0.0  0.000000   \n",
      "3           1                0                0  0.0   0.0  0.641133   \n",
      "4           0                0                0  0.0   0.0  0.000000   \n",
      "\n",
      "      world  canceled  country_grouped_CA  country_grouped_GB  \\\n",
      "0  0.000000       0.0               False               False   \n",
      "1  0.000000       0.0               False               False   \n",
      "2  0.655029       0.0               False               False   \n",
      "3  0.000000       0.0               False               False   \n",
      "4  0.000000       0.0               False               False   \n",
      "\n",
      "   country_grouped_Other  country_grouped_US  currency_grouped_CAD  \\\n",
      "0                  False                True                 False   \n",
      "1                  False                True                 False   \n",
      "2                  False                True                 False   \n",
      "3                  False                True                 False   \n",
      "4                   True               False                 False   \n",
      "\n",
      "   currency_grouped_EUR  currency_grouped_GBP  currency_grouped_Other  \\\n",
      "0                 False                 False                   False   \n",
      "1                 False                 False                   False   \n",
      "2                 False                 False                   False   \n",
      "3                 False                 False                   False   \n",
      "4                  True                 False                   False   \n",
      "\n",
      "   currency_grouped_USD  deadline_weekday_Friday  deadline_weekday_Monday  \\\n",
      "0                  True                     True                    False   \n",
      "1                  True                     True                    False   \n",
      "2                  True                    False                    False   \n",
      "3                  True                    False                     True   \n",
      "4                 False                    False                     True   \n",
      "\n",
      "   deadline_weekday_Saturday  deadline_weekday_Sunday  \\\n",
      "0                      False                    False   \n",
      "1                      False                    False   \n",
      "2                      False                    False   \n",
      "3                      False                    False   \n",
      "4                      False                    False   \n",
      "\n",
      "   deadline_weekday_Thursday  deadline_weekday_Tuesday  \\\n",
      "0                      False                     False   \n",
      "1                      False                     False   \n",
      "2                       True                     False   \n",
      "3                      False                     False   \n",
      "4                      False                     False   \n",
      "\n",
      "   deadline_weekday_Wednesday  state_changed_at_weekday_Friday  \\\n",
      "0                       False                             True   \n",
      "1                       False                             True   \n",
      "2                       False                            False   \n",
      "3                       False                            False   \n",
      "4                       False                            False   \n",
      "\n",
      "   state_changed_at_weekday_Monday  state_changed_at_weekday_Saturday  \\\n",
      "0                            False                              False   \n",
      "1                            False                              False   \n",
      "2                            False                              False   \n",
      "3                             True                              False   \n",
      "4                             True                              False   \n",
      "\n",
      "   state_changed_at_weekday_Sunday  state_changed_at_weekday_Thursday  \\\n",
      "0                            False                              False   \n",
      "1                            False                              False   \n",
      "2                            False                               True   \n",
      "3                            False                              False   \n",
      "4                            False                              False   \n",
      "\n",
      "   state_changed_at_weekday_Tuesday  state_changed_at_weekday_Wednesday  \\\n",
      "0                             False                               False   \n",
      "1                             False                               False   \n",
      "2                             False                               False   \n",
      "3                             False                               False   \n",
      "4                             False                               False   \n",
      "\n",
      "   created_at_weekday_Friday  created_at_weekday_Monday  \\\n",
      "0                      False                      False   \n",
      "1                       True                      False   \n",
      "2                      False                      False   \n",
      "3                       True                      False   \n",
      "4                      False                      False   \n",
      "\n",
      "   created_at_weekday_Saturday  created_at_weekday_Sunday  \\\n",
      "0                         True                      False   \n",
      "1                        False                      False   \n",
      "2                         True                      False   \n",
      "3                        False                      False   \n",
      "4                        False                      False   \n",
      "\n",
      "   created_at_weekday_Thursday  created_at_weekday_Tuesday  \\\n",
      "0                        False                       False   \n",
      "1                        False                       False   \n",
      "2                        False                       False   \n",
      "3                        False                       False   \n",
      "4                        False                       False   \n",
      "\n",
      "   created_at_weekday_Wednesday  launched_at_weekday_Friday  \\\n",
      "0                         False                       False   \n",
      "1                         False                       False   \n",
      "2                         False                       False   \n",
      "3                         False                       False   \n",
      "4                          True                       False   \n",
      "\n",
      "   launched_at_weekday_Monday  launched_at_weekday_Saturday  \\\n",
      "0                       False                         False   \n",
      "1                        True                         False   \n",
      "2                       False                         False   \n",
      "3                       False                          True   \n",
      "4                       False                         False   \n",
      "\n",
      "   launched_at_weekday_Sunday  launched_at_weekday_Thursday  \\\n",
      "0                       False                         False   \n",
      "1                       False                         False   \n",
      "2                        True                         False   \n",
      "3                       False                         False   \n",
      "4                       False                          True   \n",
      "\n",
      "   launched_at_weekday_Tuesday  launched_at_weekday_Wednesday  \\\n",
      "0                        False                           True   \n",
      "1                        False                          False   \n",
      "2                        False                          False   \n",
      "3                        False                          False   \n",
      "4                        False                          False   \n",
      "\n",
      "   category_grouped_Apps  category_grouped_Gadgets  category_grouped_Hardware  \\\n",
      "0                  False                     False                      False   \n",
      "1                  False                     False                      False   \n",
      "2                  False                     False                      False   \n",
      "3                  False                     False                      False   \n",
      "4                  False                     False                      False   \n",
      "\n",
      "   category_grouped_Musical  category_grouped_Other  category_grouped_Plays  \\\n",
      "0                     False                    True                   False   \n",
      "1                     False                    True                   False   \n",
      "2                     False                    True                   False   \n",
      "3                     False                    True                   False   \n",
      "4                     False                    True                   False   \n",
      "\n",
      "   category_grouped_Software  category_grouped_Sound  \\\n",
      "0                      False                   False   \n",
      "1                      False                   False   \n",
      "2                      False                   False   \n",
      "3                      False                   False   \n",
      "4                      False                   False   \n",
      "\n",
      "   category_grouped_Wearables  category_grouped_Web  \n",
      "0                       False                 False  \n",
      "1                       False                 False  \n",
      "2                       False                 False  \n",
      "3                       False                 False  \n",
      "4                       False                 False  \n"
     ]
    }
   ],
   "source": [
    "# Dropping columns before training\n",
    "cols_to_drop = [\n",
    "    'name',\n",
    "    'blurb',\n",
    "    'category',\n",
    "    'country',\n",
    "    'currency',\n",
    "    'deadline',\n",
    "    'state_changed_at',\n",
    "    'created_at',\n",
    "    'launched_at',\n",
    "    'spotlight' # Manually dropping the spotlight column as this is a source for data leakage\n",
    "]\n",
    "\n",
    "starter_df = full_kickstarter_df.drop(cols_to_drop, axis=1)\n",
    "print(starter_df.head())"
   ]
  },
  {
   "cell_type": "markdown",
   "id": "17bf42fe",
   "metadata": {},
   "source": [
    "Many columns are labeled with true/false variables. SVMs are mathematical models requiring numerical inputs. "
   ]
  },
  {
   "cell_type": "code",
   "execution_count": 20,
   "id": "b8c01cf8",
   "metadata": {},
   "outputs": [
    {
     "name": "stdout",
     "output_type": "stream",
     "text": [
      "goal                          float64\n",
      "disable_communication           int64\n",
      "staff_pick                      int64\n",
      "backers_count                   int64\n",
      "static_usd_rate               float64\n",
      "                               ...   \n",
      "category_grouped_Plays          int64\n",
      "category_grouped_Software       int64\n",
      "category_grouped_Sound          int64\n",
      "category_grouped_Wearables      int64\n",
      "category_grouped_Web            int64\n",
      "Length: 77, dtype: object\n"
     ]
    }
   ],
   "source": [
    "for col in starter_df.columns:\n",
    "    if starter_df[col].dtype == bool:\n",
    "        starter_df[col] = starter_df[col].astype(int)\n",
    "\n",
    "print(starter_df.dtypes)"
   ]
  },
  {
   "cell_type": "markdown",
   "id": "1000a63b",
   "metadata": {},
   "source": [
    "<h3>Preliminary Analysis with Minimal Model Tuning</h3>"
   ]
  },
  {
   "cell_type": "code",
   "execution_count": 21,
   "id": "3d89fcf3",
   "metadata": {},
   "outputs": [],
   "source": [
    "# All input features\n",
    "X = starter_df.drop('SuccessfulBool', axis=1)\n",
    "\n",
    "# Get the output\n",
    "Y = starter_df['SuccessfulBool']\n",
    "\n",
    "models = [\n",
    "    ('RBF SVC SVM', SVC(kernel='rbf', C=1, random_state=42)), # RBF is the default for SVM\n",
    "    ('RBF NuSVC SVM', NuSVC(kernel='rbf', random_state=42)),\n",
    "]"
   ]
  },
  {
   "cell_type": "code",
   "execution_count": 22,
   "id": "53694386",
   "metadata": {},
   "outputs": [
    {
     "name": "stdout",
     "output_type": "stream",
     "text": [
      "RBF SVC SVM: 0.7818 accuracy (±0.0084)\n",
      "RBF NuSVC SVM: 0.7706 accuracy (±0.0108)\n"
     ]
    }
   ],
   "source": [
    "results = []\n",
    "preliminary_results = []\n",
    "names = []\n",
    "scoring = 'accuracy'\n",
    "kfold = KFold(n_splits=10, shuffle=True, random_state=42)\n",
    "\n",
    "for name, model in models:\n",
    "    cv_results = cross_val_score(model, X, Y, cv=kfold, scoring=scoring)\n",
    "    results.append(cv_results)\n",
    "    names.append(name)\n",
    "    print(f\"{name}: {cv_results.mean():.4f} accuracy (±{cv_results.std():.4f})\")"
   ]
  },
  {
   "cell_type": "markdown",
   "id": "f91f9cd5",
   "metadata": {},
   "source": [
    "<h3>Analysis of Different Kernel Functions</h3>"
   ]
  },
  {
   "cell_type": "markdown",
   "id": "e65ebff9",
   "metadata": {},
   "source": [
    "<strong>Kernal Function Notes</strong>\n",
    "The kernel function is used to take data as input and transform it into the required form of processing data.\n",
    "\n",
    "[1] Linear Kernel: This is best suited for data that is linearly separable. From EDA, we did not see much linear correlation between the input and output data. As a result, we skip this kernel.\n",
    "\n",
    "[2] Polynomial Kernel: This allows for mapping of more complex relationships by introducing polynomial terms. This is useful for data that is not linearly separable but still follows a pattern.\n",
    "\n",
    "[3] RBF Kernel: This is the most widely used kerne;. It maps the data into an infinite-dimensional space marking it highly effective for complex classification problems. We use this when the decision boundary is highly non-linear.\n",
    "\n",
    "[4] Sigmoid: This is inspired by neural networks. It is suitable for neural networks and non-linear classifiers.\n",
    "\n",
    "Source: https://www.geeksforgeeks.org/major-kernel-functions-in-support-vector-machine-svm/\n",
    "A cool video for kernal visualization: https://www.youtube.com/watch?v=3liCbRZPrZA"
   ]
  },
  {
   "cell_type": "code",
   "execution_count": 23,
   "id": "3d2b5e1f",
   "metadata": {},
   "outputs": [
    {
     "name": "stdout",
     "output_type": "stream",
     "text": [
      "Poly SVC SVM: 0.7135 accuracy (±0.0083)\n",
      "Sigmoid SVC SVM: 0.7289 accuracy (±0.0070)\n",
      "Poly NuSVC SVM: 0.5321 accuracy (±0.2422)\n",
      "Sigmoid NuSVC SVM: 0.7299 accuracy (±0.0068)\n"
     ]
    }
   ],
   "source": [
    "kernel_models = [\n",
    "    ('Poly SVC SVM', SVC(kernel='poly', C=1, random_state=42)),\n",
    "    ('Sigmoid SVC SVM', SVC(kernel='sigmoid', C=1, random_state=42)),\n",
    "\n",
    "    ('Poly NuSVC SVM', NuSVC(kernel='poly', random_state=42)),\n",
    "    ('Sigmoid NuSVC SVM', NuSVC(kernel='sigmoid', random_state=42))\n",
    "]\n",
    "\n",
    "kernel_results = []\n",
    "kernel_preliminary_results = []\n",
    "kernel_names = []\n",
    "scoring = 'accuracy'\n",
    "kfold = KFold(n_splits=10, shuffle=True, random_state=42)\n",
    "for name, model in kernel_models:\n",
    "    cv_results = cross_val_score(model, X, Y, cv=kfold, scoring=scoring, n_jobs=1)\n",
    "    kernel_results.append(cv_results)\n",
    "    kernel_names.append(name)\n",
    "    print(f\"{name}: {cv_results.mean():.4f} accuracy (±{cv_results.std():.4f})\")"
   ]
  },
  {
   "cell_type": "code",
   "execution_count": 24,
   "id": "fc678c3d",
   "metadata": {},
   "outputs": [
    {
     "data": {
      "image/png": "[encoded data removed]",
      "text/plain": [
       "<Figure size 1000x1000 with 1 Axes>"
      ]
     },
     "metadata": {},
     "output_type": "display_data"
    }
   ],
   "source": [
    "plt.figure(figsize=(10, 10))\n",
    "plt.boxplot(kernel_results + results)\n",
    "plt.title('Model Kernel Functions Comparison')\n",
    "plt.ylabel('Accuracy')\n",
    "all_names = kernel_names + names\n",
    "plt.xticks(range(1, len(all_names) + 1), all_names)\n",
    "plt.grid(True)\n",
    "plt.show()"
   ]
  },
  {
   "cell_type": "markdown",
   "id": "e36d587d",
   "metadata": {},
   "source": [
    "From the analysis of the kernel functions, so far it seems that RBF might be the best choice. However, given that the input paramters are default, tuning the paramters further can help with model accuracy.\n",
    "\n",
    "<strong>A summary of the results:</strong>\n",
    "\n",
    "[1] RBF SVC: Best overall given our nonlinear data. Relatively low standard deviation\n",
    "\n",
    "[2] RBG NuSVC: Still strong, slightly worse that the previous\n",
    "\n",
    "[3] Sigmoid SVC and NuSVM: These perform similarily to each other\n",
    "\n",
    "[4] Poly SVC: Weaker than other models. Poly SVC in general is sensitive to regularization value C, so tuning this is of interest.\n",
    "\n",
    "[5] Poly NuSVC: Weaker which might indicate this model is overfitting. The accuracy of the models vary widely from 0.3 and ~0.75. These tells us the models are not doing well across different folds indicating the model might be potentially overfitted.\n",
    "\n",
    "These models have a fairly low standard devilation indicating that the model is consistent and stable across different folds. \n",
    "Further analysis such as looking at the ROC and AUC scores of these classification models is required."
   ]
  },
  {
   "cell_type": "markdown",
   "id": "51f1a7f6",
   "metadata": {},
   "source": [
    "<h3>Analysis of Regularization Parameter for SVCs</h3>\n",
    "\n",
    "<strong>Background</strong>\n",
    "\n",
    "The parameter C is used to set the amount of regularization, or a technqiue to reduce overfitting. C controls the trade-off between margin width and classification error.\n",
    "Given that the Poly SVC model seems to be overfitted, we will test different regularization amounts for Poly SVC and RBF SVC (previously model accurate model). \n",
    "\n",
    "A low C indicates a larger margin and a model that is more tolerant for misclassification. A high C has more narrow margin making it less tolerant for error.\n",
    "\n",
    "Source: \n",
    "https://scikit-learn.org/stable/auto_examples/svm/plot_svm_scale_c.html#sphx-glr-auto-examples-svm-plot-svm-scale-c-py"
   ]
  },
  {
   "cell_type": "markdown",
   "id": "39fabf03",
   "metadata": {},
   "source": [
    "<strong>Regularization Tuning for RBF SVC Functions</strong>"
   ]
  },
  {
   "cell_type": "code",
   "execution_count": 25,
   "id": "c4c42438",
   "metadata": {},
   "outputs": [
    {
     "name": "stdout",
     "output_type": "stream",
     "text": [
      "C=0.001: Mean accuracy = 0.7083, Std = 0.0090\n",
      "C=0.01: Mean accuracy = 0.7162, Std = 0.0077\n",
      "C=0.1: Mean accuracy = 0.7455, Std = 0.0082\n",
      "C=1: Mean accuracy = 0.7818, Std = 0.0084\n",
      "C=10: Mean accuracy = 0.8212, Std = 0.0086\n",
      "C=100: Mean accuracy = 0.8613, Std = 0.0079\n",
      "C=1000: Mean accuracy = 0.8965, Std = 0.0109\n"
     ]
    }
   ],
   "source": [
    "C_values = [0.001, 0.01, 0.1, 1, 10, 100, 1000]\n",
    "rbf_regularization_results = []\n",
    "\n",
    "for C in C_values:\n",
    "    model = SVC(kernel='rbf', C=C, random_state=42)\n",
    "    cv_results = cross_val_score(model, X, Y, cv=kfold, scoring='accuracy', n_jobs=-1)\n",
    "    rbf_regularization_results.append(cv_results)\n",
    "    print(f\"C={C}: Mean accuracy = {cv_results.mean():.4f}, Std = {cv_results.std():.4f}\")"
   ]
  },
  {
   "cell_type": "code",
   "execution_count": 32,
   "id": "6930fa59",
   "metadata": {},
   "outputs": [
    {
     "data": {
      "image/png": "[encoded data removed]",
      "text/plain": [
       "<Figure size 1000x1000 with 1 Axes>"
      ]
     },
     "metadata": {},
     "output_type": "display_data"
    }
   ],
   "source": [
    "plt.figure(figsize=(10, 10))\n",
    "plt.boxplot(rbf_regularization_results)\n",
    "plt.title('Regularization Values Comparison for RBF')\n",
    "plt.ylabel('Accuracy')\n",
    "plt.xticks(range(1, len(C_values) + 1), C_values)\n",
    "plt.grid(True)\n",
    "plt.show()"
   ]
  },
  {
   "cell_type": "code",
   "execution_count": 28,
   "id": "7ba5c3fe",
   "metadata": {},
   "outputs": [
    {
     "data": {
      "image/png": "[encoded data removed]",
      "text/plain": [
       "<Figure size 800x600 with 1 Axes>"
      ]
     },
     "metadata": {},
     "output_type": "display_data"
    }
   ],
   "source": [
    "from sklearn.model_selection import train_test_split\n",
    "\n",
    "# Split into train/test\n",
    "X_train, X_test, y_train, y_test = train_test_split(X, Y, test_size=0.3, random_state=42)\n",
    "\n",
    "# Fit model\n",
    "model = SVC(kernel='rbf', C=1000, probability=True, random_state=42)\n",
    "model.fit(X_train, y_train)\n",
    "\n",
    "# Predict probabilities for the positive class\n",
    "y_proba = model.predict_proba(X_test)[:, 1]\n",
    "\n",
    "# Plot ROC\n",
    "predictive_probability_results(y_test, y_proba, label=\"RBF SVC (C=1000)\", title=\"ROC Curve for RBF SVM\")"
   ]
  },
  {
   "cell_type": "markdown",
   "id": "82e69e4d",
   "metadata": {},
   "source": [
    "For RBF SWM, we see that as C increases, the accuracy steadily improves. C = 1000 gives the higest median accuracy and a quite low standard deviation, meaning stable and high performance (around 89%). A higher C value indivcates that it is better to penalize misclassifications more heavily on the dataset.\n",
    "\n",
    "We also observe the ROC/AUC score for the highest performing model. The ROC graph is very close to the top-left corner indicating that there is a low false positive rate and high true positive rate. This indicates that the model is not only accurate but a reliable classifier. "
   ]
  },
  {
   "cell_type": "markdown",
   "id": "45047dc4",
   "metadata": {},
   "source": [
    "<strong>Regularization Tuning for Poly SVC Functions</strong>"
   ]
  },
  {
   "cell_type": "code",
   "execution_count": 33,
   "id": "2c0010f9",
   "metadata": {},
   "outputs": [
    {
     "name": "stdout",
     "output_type": "stream",
     "text": [
      "C=0.001: Mean accuracy = 0.7085, Std = 0.0090\n",
      "C=0.01: Mean accuracy = 0.7091, Std = 0.0089\n",
      "C=0.1: Mean accuracy = 0.7110, Std = 0.0088\n",
      "C=1: Mean accuracy = 0.7135, Std = 0.0083\n",
      "C=10: Mean accuracy = 0.7170, Std = 0.0078\n",
      "C=100: Mean accuracy = 0.7215, Std = 0.0077\n",
      "C=1000: Mean accuracy = 0.7260, Std = 0.0078\n"
     ]
    }
   ],
   "source": [
    "C_values = [0.001, 0.01, 0.1, 1, 10, 100, 1000]\n",
    "poly_regularization_results = []\n",
    "\n",
    "for C in C_values:\n",
    "    model = SVC(kernel='poly', C=C, random_state=42)\n",
    "    cv_results = cross_val_score(model, X, Y, cv=kfold, scoring='accuracy', n_jobs=-1)\n",
    "    poly_regularization_results.append(cv_results)\n",
    "    print(f\"C={C}: Mean accuracy = {cv_results.mean():.4f}, Std = {cv_results.std():.4f}\")"
   ]
  },
  {
   "cell_type": "markdown",
   "id": "b040c021",
   "metadata": {},
   "source": [
    "The data does not seem to be overfitted as with varying values of regularization, the model performs consistently around 71% accuracy with relatively low standard deviation. It might be worth adjusting the gamma coefficient before ruling out this kernel completely.\n",
    "\n",
    "In NuSVC, the nu parameter defines an upper bound on the fraction of margin errors and a lower bound on the fraction of support vectors.\n",
    "For example, setting nu = 0.4 guarantees that no more than 40% of the training data will be margin violators, and at least 40% will be support vectors\n",
    "\n",
    "Source: https://scikit-learn.org/stable/modules/generated/sklearn.svm.NuSVC.html"
   ]
  },
  {
   "cell_type": "code",
   "execution_count": 45,
   "id": "ca211ebf",
   "metadata": {},
   "outputs": [
    {
     "name": "stdout",
     "output_type": "stream",
     "text": [
      "Nu=0.5: Mean accuracy = 0.5321, Std = 0.2422\n",
      "Nu=0.4: Mean accuracy = 0.7996, Std = 0.0556\n",
      "Nu=0.3: Mean accuracy = 0.6168, Std = 0.2522\n"
     ]
    }
   ],
   "source": [
    "nu_value = [0.5, 0.4, 0.3]\n",
    "poly_nu_regularization_results = []\n",
    "\n",
    "for nu in nu_value:\n",
    "    model = NuSVC(kernel='poly', nu=nu, random_state=42)\n",
    "    cv_results = cross_val_score(model, X, Y, cv=kfold, scoring='accuracy', n_jobs=-1)\n",
    "    poly_nu_regularization_results.append(cv_results)\n",
    "    print(f\"Nu={nu}: Mean accuracy = {cv_results.mean():.4f}, Std = {cv_results.std():.4f}\")"
   ]
  },
  {
   "cell_type": "markdown",
   "id": "27bf6164",
   "metadata": {},
   "source": [
    "We see that a Nu value of 0.4 provides the highest mean accuracy, but the standard deviation gives indication that not all folds are consistent. The other two Nu values result in a model accuracy that is similar to essentially guessing the data."
   ]
  },
  {
   "cell_type": "markdown",
   "id": "e54c4f3b",
   "metadata": {},
   "source": [
    "<h3>Analysis of Gamma Parameter for SVCs</h3>"
   ]
  }
 ],
 "metadata": {
  "kernelspec": {
   "display_name": "base",
   "language": "python",
   "name": "python3"
  },
  "language_info": {
   "codemirror_mode": {
    "name": "ipython",
    "version": 3
   },
   "file_extension": ".py",
   "mimetype": "text/x-python",
   "name": "python",
   "nbconvert_exporter": "python",
   "pygments_lexer": "ipython3",
   "version": "3.11.7"
  }
 },
 "nbformat": 4,
 "nbformat_minor": 5
}
